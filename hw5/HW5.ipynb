{
 "cells": [
  {
   "cell_type": "markdown",
   "id": "4e02e4e7",
   "metadata": {},
   "source": [
    "Lefki Ioanna (Eleanna) Panagiotou \n",
    "\n",
    "ID: 908 589 7206"
   ]
  },
  {
   "cell_type": "code",
   "execution_count": 1,
   "id": "4a75847f",
   "metadata": {},
   "outputs": [],
   "source": [
    "import numpy as np\n",
    "import os\n",
    "import matplotlib.pyplot as plt\n",
    "import pandas as pd\n",
    "import math\n",
    "from sklearn.metrics import  auc, accuracy_score\n",
    "import matplotlib.pyplot as plt\n",
    "from sklearn.metrics import pairwise_distances\n",
    "from scipy.optimize import linear_sum_assignment\n",
    "from scipy.stats import multivariate_normal\n",
    "import scipy.linalg\n",
    "\n",
    "from tqdm.auto import tqdm"
   ]
  },
  {
   "cell_type": "markdown",
   "id": "d271a7d9",
   "metadata": {},
   "source": [
    "## 1.2"
   ]
  },
  {
   "cell_type": "markdown",
   "id": "f5e52820",
   "metadata": {},
   "source": [
    "### Generating datasets"
   ]
  },
  {
   "cell_type": "code",
   "execution_count": 91,
   "id": "81ca4c0a",
   "metadata": {},
   "outputs": [],
   "source": [
    "def generate_data(sigma):\n",
    "    samples_per_distr = 100\n",
    "    \n",
    "    # Mean and covariance matrices for the three distributions\n",
    "    mean_a = np.array([-1, -1])\n",
    "    cov_a = sigma * np.array([[2, 0.5], [0.5, 1]])\n",
    "\n",
    "    mean_b = np.array([1, -1])\n",
    "    cov_b = sigma * np.array([[1, -0.5], [-0.5, 2]])\n",
    "\n",
    "    mean_c = np.array([0, 1])\n",
    "    cov_c = sigma * np.array([[1, 0], [0, 2]])\n",
    "\n",
    "    # Generate data points for each distribution\n",
    "    data_a = np.random.multivariate_normal(mean_a, cov_a, samples_per_distr)\n",
    "    data_b = np.random.multivariate_normal(mean_b, cov_b, samples_per_distr)\n",
    "    data_c = np.random.multivariate_normal(mean_c, cov_c, samples_per_distr)\n",
    "\n",
    "    # Stack the data points to create the complete dataset\n",
    "    data = np.concatenate([data_a, data_b, data_c])\n",
    "    true_labels = ['a'] * len(data_a) + ['b'] * len(data_b) + ['c'] * len(data_c)\n",
    "    \n",
    "    return data, true_labels"
   ]
  },
  {
   "cell_type": "markdown",
   "id": "4f69763e",
   "metadata": {},
   "source": [
    "### Implementing K-means"
   ]
  },
  {
   "cell_type": "code",
   "execution_count": 92,
   "id": "84fd2e0b",
   "metadata": {},
   "outputs": [],
   "source": [
    "def smart_centroids_init(data, k):\n",
    "    \n",
    "    centroids = [data[np.random.randint(0, data.shape[0])]]\n",
    "    \n",
    "    for _ in range(1, k):\n",
    "        distances = np.array([min([np.linalg.norm(x - c) ** 2 for c in centroids]) for x in data])\n",
    "        next_centroid = data[np.random.choice(len(data), p=distances / distances.sum())]\n",
    "        centroids.append(next_centroid)\n",
    "\n",
    "    return np.array(centroids)"
   ]
  },
  {
   "cell_type": "code",
   "execution_count": 93,
   "id": "9b4d5e6e",
   "metadata": {},
   "outputs": [],
   "source": [
    "def my_Kmeans(data, k, init_type=None):\n",
    "    \n",
    "    if init_type == 'smart':\n",
    "        initial_centroids = smart_centroids_init(data, k)\n",
    "    else:\n",
    "        initial_centroids = data[np.random.choice(data.shape[0], k, replace=False)]\n",
    "    \n",
    "    max_iters=1000\n",
    "    labels = np.zeros(data.shape[0], dtype=int)\n",
    "    \n",
    "    for iteration in range(max_iters):\n",
    "        distances = np.linalg.norm(data[:, np.newaxis] - initial_centroids, axis=2)\n",
    "        labels = np.argmin(distances, axis=1)\n",
    "\n",
    "        new_centroids = np.array([data[labels == i].mean(axis=0) for i in range(0,k)])\n",
    "\n",
    "        if np.all(new_centroids == initial_centroids):\n",
    "            break\n",
    "\n",
    "        initial_centroids = new_centroids\n",
    "\n",
    "    final_labels = [x + 1 for x in labels]\n",
    "    final_centroids = new_centroids\n",
    "    \n",
    "    return final_centroids, final_labels"
   ]
  },
  {
   "cell_type": "code",
   "execution_count": 94,
   "id": "382118a2",
   "metadata": {},
   "outputs": [],
   "source": [
    "def calculate_obj(data, centroids, labels):\n",
    "    \n",
    "    obj_val = 0\n",
    "    \n",
    "    for i in range(1, len(centroids)+1):\n",
    "        cluster_points = data[np.where(labels == i)]\n",
    "        obj_val += np.sum((cluster_points - centroids[i-1])**2)\n",
    "      \n",
    "        \n",
    "    return obj_val"
   ]
  },
  {
   "cell_type": "code",
   "execution_count": 95,
   "id": "6d11973e",
   "metadata": {},
   "outputs": [],
   "source": [
    "def Kmeans_mapping(predicted_centroids, predicted_labels):\n",
    "    # Generate ground truth centroids and algorithm-generated centroids\n",
    "    # You should have these from your K-means or GMM results\n",
    "    ground_truth_centroids = np.array([[-1, -1], [1, -1], [0, 1]])\n",
    "    algorithm_centroids = predicted_centroids  # Replace with your actual centroids\n",
    "\n",
    "    # Define the true distribution labels and cluster labels\n",
    "    true_labels = ['a', 'b', 'c']\n",
    "    cluster_labels = [1, 2, 3]\n",
    "\n",
    "    # Calculate the distance matrix between ground truth and algorithm centroids\n",
    "    distance_matrix = pairwise_distances(ground_truth_centroids, algorithm_centroids)\n",
    "\n",
    "    # Use the Hungarian algorithm to find the best centroid mapping\n",
    "    row_ind, col_ind = linear_sum_assignment(distance_matrix)\n",
    "\n",
    "    # Create a mapping from algorithm-generated cluster IDs to true distribution labels\n",
    "    cluster_to_label_mapping = {cluster_labels[i]: true_labels[col_ind[i]] for i in range(len(cluster_labels))}\n",
    "    \n",
    "    labels = [cluster_to_label_mapping[cluster] for cluster in predicted_labels]\n",
    "    \n",
    "    return labels"
   ]
  },
  {
   "cell_type": "code",
   "execution_count": 96,
   "id": "245b7331",
   "metadata": {},
   "outputs": [
    {
     "name": "stdout",
     "output_type": "stream",
     "text": [
      "Objective value: 301.1127968441795\n",
      "Clustering Accuracy for All Data Points: 81.33%\n",
      "Objective value: 568.3125818618742\n",
      "Clustering Accuracy for All Data Points: 69.67%\n",
      "Objective value: 951.0924299362367\n",
      "Clustering Accuracy for All Data Points: 60.00%\n",
      "Objective value: 1924.6594115154953\n",
      "Clustering Accuracy for All Data Points: 49.33%\n",
      "Objective value: 3304.427695975483\n",
      "Clustering Accuracy for All Data Points: 44.67%\n"
     ]
    }
   ],
   "source": [
    "np.random.seed(42)\n",
    "sigmas = [0.5, 1.0, 2.0, 4.0, 8.0]\n",
    "k = 3\n",
    "kmeans_objectives = []\n",
    "kmeans_accuracies = []\n",
    "\n",
    "for sigma in sigmas:\n",
    "    \n",
    "    data, true_labels = generate_data(sigma)\n",
    "    predicted_centroids, predicted_labels = my_Kmeans(data, k, 'smart')\n",
    "    \n",
    "    obj_val = calculate_obj(data, predicted_centroids, np.array(predicted_labels))\n",
    "    print(\"Objective value:\", obj_val)\n",
    "    kmeans_objectives.append(obj_val)\n",
    "    \n",
    "    predicted_labels = Kmeans_mapping(predicted_centroids, predicted_labels)\n",
    "    \n",
    "    accuracy = sum(true_label == predicted_label for true_label, predicted_label in zip(true_labels, predicted_labels)) / len(data) * 100\n",
    "    print(\"Clustering Accuracy for All Data Points: {:.2f}%\".format(accuracy))\n",
    "    kmeans_accuracies.append(accuracy)"
   ]
  },
  {
   "cell_type": "markdown",
   "id": "d867db54",
   "metadata": {},
   "source": [
    "### Implementing EM"
   ]
  },
  {
   "cell_type": "code",
   "execution_count": 97,
   "id": "bd6af698",
   "metadata": {},
   "outputs": [],
   "source": [
    "def e_step(data, means, covariances, weights):\n",
    "    n_samples = data.shape[0]\n",
    "    responsibilities = np.zeros((n_samples, len(means)))\n",
    "\n",
    "    for i in range(len(means)):\n",
    "        responsibilities[:, i] = weights[i] * multivariate_normal.pdf(data, means[i], covariances[i])\n",
    "\n",
    "    responsibilities /= np.sum(responsibilities, axis=1, keepdims=True)\n",
    "\n",
    "    return responsibilities"
   ]
  },
  {
   "cell_type": "code",
   "execution_count": 98,
   "id": "1b505304",
   "metadata": {},
   "outputs": [],
   "source": [
    "def m_step(data, responsibilities):\n",
    "    n_samples, n_features = data.shape\n",
    "    new_weights = np.mean(responsibilities, axis=0)\n",
    "    new_means = np.dot(responsibilities.T, data) / np.sum(responsibilities, axis=0)[:, np.newaxis]\n",
    "    new_covariances = []\n",
    "\n",
    "    for i in range(len(new_means)):\n",
    "        diff = data - new_means[i]\n",
    "        cov_matrix = np.dot(responsibilities[:, i] * diff.T, diff) / np.sum(responsibilities[:, i])\n",
    "        new_covariances.append(cov_matrix)\n",
    "\n",
    "    return new_means, new_covariances, new_weights"
   ]
  },
  {
   "cell_type": "code",
   "execution_count": 99,
   "id": "2d255fbb",
   "metadata": {},
   "outputs": [],
   "source": [
    "def negative_log_likelihood(data, means, covariances, weights):\n",
    "    n_samples = data.shape[0]\n",
    "    log_likelihood = np.zeros(n_samples)\n",
    "\n",
    "    for i in range(len(means)):\n",
    "        log_likelihood += weights[i] * multivariate_normal.pdf(data, means[i], covariances[i])\n",
    "\n",
    "    return -np.sum(np.log(log_likelihood))"
   ]
  },
  {
   "cell_type": "code",
   "execution_count": 100,
   "id": "5583886a",
   "metadata": {},
   "outputs": [],
   "source": [
    "def GMM_mapping(predicted_means, predicted_labels):\n",
    "    ground_truth_means = {\n",
    "        'a': np.array([-1, -1]),\n",
    "        'b': np.array([1, -1]),\n",
    "        'c': np.array([0, 1])\n",
    "    }\n",
    "\n",
    "    true_labels = ['a', 'b', 'c']\n",
    "    cluster_labels = [1, 2, 3]\n",
    "\n",
    "    # Calculate the distance matrix between ground truth and algorithm means\n",
    "    distance_matrix = np.zeros((len(true_labels), len(cluster_labels)))\n",
    "    \n",
    "    for i, true_label in enumerate(true_labels):\n",
    "        for j, cluster_label in enumerate(cluster_labels):\n",
    "            distance_matrix[i, j] = np.linalg.norm(ground_truth_means[true_label] - predicted_means[cluster_label-1])\n",
    "\n",
    "    #Hungarian algorithm\n",
    "    row_ind, col_ind = linear_sum_assignment(distance_matrix)\n",
    "\n",
    "    # Create a mapping from algorithm-generated cluster IDs to true distribution labels\n",
    "    cluster_to_label_mapping = {cluster_labels[col_ind[i]]: true_labels[i] for i in range(len(true_labels))}\n",
    "    \n",
    "    mapped_labels = [cluster_to_label_mapping[label] for label in predicted_labels]\n",
    "    \n",
    "    return mapped_labels"
   ]
  },
  {
   "cell_type": "code",
   "execution_count": 101,
   "id": "f9bb1e27",
   "metadata": {},
   "outputs": [],
   "source": [
    "def my_GMM(data, n_components, tol=1e-4):\n",
    "    n_samples, n_features = data.shape\n",
    "\n",
    "    means = data[np.random.choice(n_samples, n_components, replace=False)]\n",
    "    covariances = [np.eye(n_features)] * n_components\n",
    "    weights = np.ones(n_components) / n_components\n",
    "\n",
    "    means = np.array(means)  \n",
    "    covariances = np.array(covariances)\n",
    "    \n",
    "    predicted_labels = None\n",
    "    max_iters = 1000\n",
    "    for _ in range(max_iters):\n",
    "        # E-step\n",
    "        responsibilities = e_step(data, means, covariances, weights)\n",
    "        \n",
    "        predicted_labels = np.argmax(responsibilities, axis=1)\n",
    "        \n",
    "        # M-step\n",
    "        new_means, new_covariances, new_weights = m_step(data, responsibilities)\n",
    "\n",
    "        means = new_means\n",
    "        covariances = new_covariances\n",
    "        weights = new_weights\n",
    "        predicted_labels = [x + 1 for x in predicted_labels]\n",
    "\n",
    "    return means, covariances, weights, predicted_labels"
   ]
  },
  {
   "cell_type": "code",
   "execution_count": 102,
   "id": "fd965158",
   "metadata": {},
   "outputs": [
    {
     "name": "stdout",
     "output_type": "stream",
     "text": [
      "Objective value: 903.1181122932736\n",
      "Clustering Accuracy for All Data Points: 79.33%\n",
      "Objective value: 1070.0070392871398\n",
      "Clustering Accuracy for All Data Points: 53.67%\n",
      "Objective value: 1235.7821400637931\n",
      "Clustering Accuracy for All Data Points: 45.67%\n",
      "Objective value: 1438.3912320003521\n",
      "Clustering Accuracy for All Data Points: 40.33%\n",
      "Objective value: 1612.185494044604\n",
      "Clustering Accuracy for All Data Points: 39.00%\n"
     ]
    }
   ],
   "source": [
    "np.random.seed(42)\n",
    "\n",
    "sigmas = [0.5, 1.0, 2.0, 4.0, 8.0]\n",
    "k = 3\n",
    "em_objectives = []\n",
    "em_accuracies = []\n",
    "\n",
    "for sigma in sigmas:\n",
    "    \n",
    "    data, true_labels = generate_data(sigma)\n",
    "    predicted_means, covariances, weights, predicted_labels = my_GMM(data, k)\n",
    "    \n",
    "    obj_val = negative_log_likelihood(data, predicted_means, covariances, weights)\n",
    "    print(\"Objective value:\", obj_val)\n",
    "    em_objectives.append(obj_val)\n",
    "    \n",
    "    predicted_labels = GMM_mapping(predicted_means, predicted_labels)\n",
    "    \n",
    "    accuracy = sum(true_label == predicted_label for true_label, predicted_label in zip(true_labels, predicted_labels)) / len(data) * 100\n",
    "    print(\"Clustering Accuracy for All Data Points: {:.2f}%\".format(accuracy))\n",
    "    em_accuracies.append(accuracy)"
   ]
  },
  {
   "cell_type": "code",
   "execution_count": 103,
   "id": "0fcf46a6",
   "metadata": {
    "scrolled": true
   },
   "outputs": [
    {
     "data": {
      "image/png": "[encoded data removed]",
      "text/plain": [
       "<Figure size 864x360 with 2 Axes>"
      ]
     },
     "metadata": {
      "needs_background": "light"
     },
     "output_type": "display_data"
    }
   ],
   "source": [
    "# Plot the results\n",
    "plt.figure(figsize=(12, 5))\n",
    "\n",
    "plt.subplot(1, 2, 1)\n",
    "plt.plot(sigmas, kmeans_objectives, '-o', label='K-means')\n",
    "plt.plot(sigmas, em_objectives,'-ro', label='GMM')\n",
    "plt.xlabel('Sigma', fontsize=12)\n",
    "plt.ylabel('Clustering Objective', fontsize=12)\n",
    "plt.xticks(sigmas)\n",
    "plt.legend()\n",
    "\n",
    "plt.subplot(1, 2, 2)\n",
    "plt.plot(sigmas, kmeans_accuracies, '-o', label='K-means')\n",
    "plt.plot(sigmas, em_accuracies, '-ro', label='GMM')\n",
    "plt.xlabel('Sigma', fontsize=12)\n",
    "plt.ylabel('Clustering Accuracy (%)', fontsize=12)\n",
    "plt.legend()\n",
    "\n",
    "plt.show()"
   ]
  },
  {
   "cell_type": "markdown",
   "id": "a100be86",
   "metadata": {},
   "source": [
    "## 2.3"
   ]
  },
  {
   "cell_type": "code",
   "execution_count": 57,
   "id": "921f4e83",
   "metadata": {},
   "outputs": [],
   "source": [
    "def buggy_pca(X, d):\n",
    "    \n",
    "    U, S, V = np.linalg.svd(X)\n",
    "    Z = np.dot(X, V[:d, :].T)\n",
    "    reconstructions = np.dot(Z, V[:d, :])\n",
    "    \n",
    "    return Z, V[:, :d], reconstructions"
   ]
  },
  {
   "cell_type": "code",
   "execution_count": 58,
   "id": "6619f726",
   "metadata": {},
   "outputs": [],
   "source": [
    "def demeaned_pca(X, d):\n",
    "    params = []\n",
    "    mean = np.mean(X, axis=0)\n",
    "    X_demeaned = X - mean\n",
    "    \n",
    "    Z, A, reconstructions = buggy_pca(X_demeaned, d)\n",
    "    \n",
    "    reconstructions = reconstructions + mean\n",
    "    \n",
    "    params.append(mean)\n",
    "    return Z, params, reconstructions"
   ]
  },
  {
   "cell_type": "code",
   "execution_count": 59,
   "id": "93863518",
   "metadata": {},
   "outputs": [],
   "source": [
    "def normalized_pca(X, d):\n",
    "    \n",
    "    params = []\n",
    "    mean = np.mean(X, axis=0)\n",
    "    std = np.std(X, axis=0)\n",
    "    \n",
    "    X_normalized = (X - mean) / std\n",
    "    \n",
    "    Z, A, reconstructions = buggy_pca(X_normalized, d)\n",
    "    \n",
    "    reconstructions = reconstructions * std + mean\n",
    "    \n",
    "    params.append(mean)\n",
    "    params.append(std)\n",
    "    \n",
    "    return Z, params, reconstructions"
   ]
  },
  {
   "cell_type": "code",
   "execution_count": 60,
   "id": "04ddf307",
   "metadata": {},
   "outputs": [],
   "source": [
    "def DRO(X, d):   \n",
    "    params = []\n",
    "    n = X.shape[0]\n",
    "    b = np.mean(X, axis=0)\n",
    "    \n",
    "    U, S, Vt = np.linalg.svd(X - b, full_matrices=False)\n",
    "    Ud = U[:, :d]\n",
    "    Sd = np.diag(S[:d])\n",
    "    Vd = Vt[:d, :].T\n",
    "    \n",
    "    A = ((1 / np.sqrt(n)) * np.dot(Sd, Vd.T)).T\n",
    "    Z = np.sqrt(n) * Ud\n",
    "    \n",
    "    reconstructions = Z.dot(A.T) + b\n",
    "    \n",
    "    params.append(A)\n",
    "    params.append(b)\n",
    "    \n",
    "    return Z, params, reconstructions"
   ]
  },
  {
   "cell_type": "code",
   "execution_count": 61,
   "id": "01bac640",
   "metadata": {},
   "outputs": [],
   "source": [
    "def reconstruction_error(original, reconstructed):\n",
    "    return np.sum((original - reconstructed) ** 2)"
   ]
  },
  {
   "cell_type": "markdown",
   "id": "86a89dee",
   "metadata": {},
   "source": [
    "### 2D data"
   ]
  },
  {
   "cell_type": "code",
   "execution_count": 68,
   "id": "16c3d8fe",
   "metadata": {},
   "outputs": [],
   "source": [
    "data2D = np.loadtxt(\"C:/Users/lefki/Documents/MyDesktop/Master/Semester 1/ECE 760/HW5/data/data2D.csv\", delimiter=\",\")"
   ]
  },
  {
   "cell_type": "code",
   "execution_count": 69,
   "id": "4bd4aaae",
   "metadata": {},
   "outputs": [
    {
     "name": "stdout",
     "output_type": "stream",
     "text": [
      "\u001b[1m2D data\n",
      "\u001b[0mReconstruction Error (Buggy PCA): 44.34515418673971\n",
      "Reconstruction Error (Demeaned PCA): 0.500304281425646\n",
      "Reconstruction Error (Normalized PCA): 2.473604172738534\n",
      "Reconstruction Error (DRO): 0.500304281425646\n"
     ]
    }
   ],
   "source": [
    "# Calculate representations, parameters, and reconstructions for all methods\n",
    "Z_buggy, params, reconstructions_buggy = buggy_pca(data2D, 1)\n",
    "print(params.shape)\n",
    "Z_demeaned, params, reconstructions_demeaned = demeaned_pca(data2D, 1)\n",
    "Z_normalized, params, reconstructions_normalized = normalized_pca(data2D, 1)\n",
    "Z_dro, params, reconstructions_dro = DRO(data2D, 1)\n",
    "\n",
    "error_buggy = reconstruction_error(data2D, reconstructions_buggy)\n",
    "error_demeaned = reconstruction_error(data2D, reconstructions_demeaned)\n",
    "error_normalized = reconstruction_error(data2D, reconstructions_normalized)\n",
    "error_dro = reconstruction_error(data2D, reconstructions_dro)\n",
    "\n",
    "print(\"\\033[1m2D data\")\n",
    "print(\"\\033[0mReconstruction Error (Buggy PCA):\", error_buggy)\n",
    "print(\"Reconstruction Error (Demeaned PCA):\", error_demeaned)\n",
    "print(\"Reconstruction Error (Normalized PCA):\", error_normalized)\n",
    "print(\"Reconstruction Error (DRO):\", error_dro)"
   ]
  },
  {
   "cell_type": "code",
   "execution_count": 71,
   "id": "3af58915",
   "metadata": {},
   "outputs": [
    {
     "data": {
      "image/png": "[encoded data removed]",
      "text/plain": [
       "<Figure size 720x720 with 4 Axes>"
      ]
     },
     "metadata": {
      "needs_background": "light"
     },
     "output_type": "display_data"
    }
   ],
   "source": [
    "# Original data\n",
    "x_original = data2D[:, 0]\n",
    "y_original = data2D[:, 1]\n",
    "\n",
    "# Buggy PCA reconstructions\n",
    "x_buggy = reconstructions_buggy[:, 0]\n",
    "y_buggy = reconstructions_buggy[:, 1]\n",
    "\n",
    "# Demeaned PCA reconstructions\n",
    "x_demeaned = reconstructions_demeaned[:, 0]\n",
    "y_demeaned = reconstructions_demeaned[:, 1]\n",
    "\n",
    "# Normalized PCA reconstructions\n",
    "x_normalized = reconstructions_normalized[:, 0]\n",
    "y_normalized = reconstructions_normalized[:, 1]\n",
    "\n",
    "x_dro = reconstructions_dro[:, 0]\n",
    "y_dro = reconstructions_dro[:, 1]\n",
    "\n",
    "fig, axes = plt.subplots(2, 2, figsize=(10, 10))\n",
    "\n",
    "axes[0, 0].scatter(x_original, y_original, label=\"Original Data\", marker='o', color='blue')\n",
    "axes[0, 0].scatter(x_buggy, y_buggy, label=\"Buggy PCA Reconstructions\", marker='x', color='red')\n",
    "axes[0, 0].set_title(\"Buggy PCA\")\n",
    "axes[0, 0].set_xticks(np.arange(0, 11))\n",
    "axes[0, 0].set_yticks(np.arange(0, 11))\n",
    "\n",
    "axes[0, 1].scatter(x_original, y_original, label=\"Original Data\", marker='o', color='blue')\n",
    "axes[0, 1].scatter(x_demeaned, y_demeaned, label=\"Demeaned PCA Reconstructions\", marker='x', color='red')\n",
    "axes[0, 1].set_title(\"Demeaned PCA\")\n",
    "axes[0, 1].set_xticks(np.arange(0, 11))\n",
    "axes[0, 1].set_yticks(np.arange(0, 11))\n",
    "\n",
    "axes[1, 0].scatter(x_original, y_original, label=\"Original Data\", marker='o', color='blue')\n",
    "axes[1, 0].scatter(x_normalized, y_normalized, label=\"Normalized PCA Reconstructions\", marker='x', color='red')\n",
    "axes[1, 0].set_title(\"Normalized PCA\")\n",
    "axes[1, 0].set_xticks(np.arange(0, 11))\n",
    "axes[1, 0].set_yticks(np.arange(0, 11))\n",
    "\n",
    "axes[1, 1].scatter(x_original, y_original, label=\"Original Data\", marker='o', color='blue')\n",
    "axes[1, 1].scatter(x_dro, y_dro, label=\"DRO Reconstructions\", marker='x', color='red')\n",
    "axes[1, 1].set_title(\"DRO\")\n",
    "axes[1, 1].set_xticks(np.arange(0, 11))\n",
    "axes[1, 1].set_yticks(np.arange(0, 11))\n",
    "\n",
    "axes[0, 0].legend()\n",
    "axes[0, 1].legend()\n",
    "axes[1, 0].legend()\n",
    "axes[1, 1].legend()\n",
    "\n",
    "for ax in axes.flat:\n",
    "    ax.set_xlabel(\"X\")\n",
    "    ax.set_ylabel(\"Y\")\n",
    "\n",
    "plt.tight_layout()\n",
    "plt.show()"
   ]
  },
  {
   "cell_type": "markdown",
   "id": "617cfac5",
   "metadata": {},
   "source": [
    "### 1000D data"
   ]
  },
  {
   "cell_type": "code",
   "execution_count": 72,
   "id": "7ec0ade8",
   "metadata": {},
   "outputs": [
    {
     "name": "stdout",
     "output_type": "stream",
     "text": [
      "(500, 1000)\n"
     ]
    }
   ],
   "source": [
    "data1000D = np.loadtxt(\"C:/Users/lefki/Documents/MyDesktop/Master/Semester 1/ECE 760/HW5/data/data1000D.csv\", delimiter=\",\")\n",
    "print(data1000D.shape)"
   ]
  },
  {
   "cell_type": "code",
   "execution_count": 108,
   "id": "e3eccdd9",
   "metadata": {},
   "outputs": [],
   "source": [
    "def choose_d_svd(X):\n",
    "    mean = np.mean(X, axis=0)\n",
    "    X = X - mean\n",
    "    \n",
    "    U, S, Vt = np.linalg.svd(X, full_matrices=False)\n",
    "    \n",
    "    fig, axes = plt.subplots(1, 2, figsize=(12, 5))\n",
    "\n",
    "    axes[1].plot(S)\n",
    "    axes[1].set_xlabel(\"Index = d-1\", fontsize=13)\n",
    "    axes[1].set_ylabel(\"Singular Value\", fontsize=13)\n",
    "    axes[1].set_xlim((28, 32))\n",
    "    axes[1].grid(True)\n",
    "\n",
    "    axes[0].plot(S)\n",
    "    axes[0].set_xlabel(\"Index = d-1\", fontsize=13)\n",
    "    axes[0].set_ylabel(\"Singular Value\", fontsize=13)\n",
    "    axes[0].set_xlim((0, 500))\n",
    "    axes[0].grid(True)\n",
    "\n",
    "    # Adjust spacing between subplots for better readability\n",
    "    plt.tight_layout()\n",
    "\n",
    "    # Show the plots\n",
    "    plt.show()\n",
    "    \n",
    "    return S"
   ]
  },
  {
   "cell_type": "code",
   "execution_count": 109,
   "id": "8a2b60b9",
   "metadata": {
    "scrolled": false
   },
   "outputs": [
    {
     "data": {
      "image/png": "[encoded data removed]",
      "text/plain": [
       "<Figure size 864x360 with 2 Axes>"
      ]
     },
     "metadata": {
      "needs_background": "light"
     },
     "output_type": "display_data"
    }
   ],
   "source": [
    "d_1000D = choose_d_svd(data1000D)"
   ]
  },
  {
   "cell_type": "code",
   "execution_count": 85,
   "id": "d62f4a14",
   "metadata": {},
   "outputs": [
    {
     "name": "stdout",
     "output_type": "stream",
     "text": [
      "\u001b[1m1000D data\n",
      "\u001b[0mReconstruction Error (Buggy PCA): 401365.6993101792\n",
      "Reconstruction Error (Demeaned PCA): 136522.9794893014\n",
      "Reconstruction Error (Normalized PCA): 136814.2904988116\n",
      "Reconstruction Error (DRO): 136522.9794893014\n"
     ]
    }
   ],
   "source": [
    "Z_buggy, params, reconstructions_buggy = buggy_pca(data1000D, d=30)\n",
    "Z_demeaned, params, reconstructions_demeaned = demeaned_pca(data1000D, d=30)\n",
    "Z_normalized, params, reconstructions_normalized = normalized_pca(data1000D, d=30)\n",
    "Z_dro, params, reconstructions_dro = DRO(data1000D, d=30)\n",
    "\n",
    "error_buggy = reconstruction_error(data1000D, reconstructions_buggy)\n",
    "error_demeaned = reconstruction_error(data1000D, reconstructions_demeaned)\n",
    "error_normalized = reconstruction_error(data1000D, reconstructions_normalized)\n",
    "error_dro = reconstruction_error(data1000D, reconstructions_dro)\n",
    "\n",
    "print(\"\\033[1m1000D data\")\n",
    "print(\"\\033[0mReconstruction Error (Buggy PCA):\", error_buggy)\n",
    "print(\"Reconstruction Error (Demeaned PCA):\", error_demeaned)\n",
    "print(\"Reconstruction Error (Normalized PCA):\", error_normalized)\n",
    "print(\"Reconstruction Error (DRO):\", error_dro)"
   ]
  }
 ],
 "metadata": {
  "kernelspec": {
   "display_name": "Python 3 (ipykernel)",
   "language": "python",
   "name": "python3"
  },
  "language_info": {
   "codemirror_mode": {
    "name": "ipython",
    "version": 3
   },
   "file_extension": ".py",
   "mimetype": "text/x-python",
   "name": "python",
   "nbconvert_exporter": "python",
   "pygments_lexer": "ipython3",
   "version": "3.9.12"
  }
 },
 "nbformat": 4,
 "nbformat_minor": 5
}

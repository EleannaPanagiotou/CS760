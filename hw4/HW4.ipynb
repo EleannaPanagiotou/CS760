{
 "cells": [
  {
   "cell_type": "markdown",
   "id": "4e02e4e7",
   "metadata": {},
   "source": [
    "Lefki Ioanna (Eleanna) Panagiotou \n",
    "\n",
    "ID: 908 589 7206"
   ]
  },
  {
   "cell_type": "code",
   "execution_count": 1,
   "id": "01504489",
   "metadata": {},
   "outputs": [],
   "source": [
    "import numpy as np\n",
    "import os\n",
    "import matplotlib.pyplot as plt\n",
    "import pandas as pd\n",
    "import math\n",
    "from sklearn.metrics import  auc, accuracy_score\n",
    "import matplotlib.pyplot as plt\n",
    "\n",
    "from tqdm.auto import tqdm\n",
    "np.random.seed(0)"
   ]
  },
  {
   "cell_type": "markdown",
   "id": "54e4e4f5",
   "metadata": {},
   "source": [
    "## Question 3: Language Identification with Naive Bayes "
   ]
  },
  {
   "cell_type": "markdown",
   "id": "99de0b3a",
   "metadata": {},
   "source": [
    "### 3.1"
   ]
  },
  {
   "cell_type": "code",
   "execution_count": 2,
   "id": "4b1c2947",
   "metadata": {},
   "outputs": [],
   "source": [
    "num_train_samples = 30\n",
    "num_classes = 3\n",
    "occurances_of_class_e = 10 \n",
    "occurances_of_class_j = 10\n",
    "occurances_of_class_s = 10\n",
    "a = 0.5"
   ]
  },
  {
   "cell_type": "code",
   "execution_count": 3,
   "id": "4b5f0519",
   "metadata": {},
   "outputs": [
    {
     "name": "stdout",
     "output_type": "stream",
     "text": [
      "Prior probability for class e = 0.3333 \n",
      "Prior probability for class j = 0.3333 \n",
      "Prior probability for class s = 0.3333 \n",
      "\n"
     ]
    }
   ],
   "source": [
    "prior_e = (occurances_of_class_e + a) / (num_train_samples + (a * num_classes))\n",
    "prior_j = (occurances_of_class_j + a) / (num_train_samples + (a * num_classes))\n",
    "prior_s = (occurances_of_class_s + a) / (num_train_samples + (a * num_classes))\n",
    "\n",
    "print(f\"Prior probability for class e = {prior_e:.4f} \\nPrior probability for class j = {prior_j:.4f} \\nPrior probability for class s = {prior_s:.4f} \\n\")"
   ]
  },
  {
   "cell_type": "code",
   "execution_count": 4,
   "id": "3efe3052",
   "metadata": {},
   "outputs": [
    {
     "name": "stdout",
     "output_type": "stream",
     "text": [
      "[-1.0986122886681098, -1.0986122886681098, -1.0986122886681098]\n"
     ]
    }
   ],
   "source": [
    "log_priors = [np.log(prior_e), np.log(prior_j), np.log(prior_s)]\n",
    "print(log_priors)"
   ]
  },
  {
   "cell_type": "markdown",
   "id": "bf1e8ca0",
   "metadata": {},
   "source": [
    "### 3.2"
   ]
  },
  {
   "cell_type": "code",
   "execution_count": 5,
   "id": "3361d741",
   "metadata": {},
   "outputs": [],
   "source": [
    "vocab = [\"a\" ,\"b\", \"c\", \"d\", \"e\", \"f\", \"g\", \"h\", \"i\", \"j\", \"k\", \"l\", \"m\", \"n\", \"o\", \"p\", \"q\", \"r\", \"s\", \"t\", \"u\", \"v\", \"w\", \"x\", \"y\", \"z\", \" \"]"
   ]
  },
  {
   "cell_type": "code",
   "execution_count": 6,
   "id": "544732ec",
   "metadata": {},
   "outputs": [
    {
     "name": "stdout",
     "output_type": "stream",
     "text": [
      "Occurancies of each character in English files: {'a': 910, 'b': 168, 'c': 325, 'd': 332, 'e': 1594, 'f': 286, 'g': 264, 'h': 714, 'i': 838, 'j': 21, 'k': 56, 'l': 438, 'm': 310, 'n': 876, 'o': 975, 'p': 253, 'q': 8, 'r': 814, 's': 1001, 't': 1212, 'u': 403, 'v': 140, 'w': 234, 'x': 17, 'y': 209, 'z': 9, ' ': 2712}\n",
      "\n",
      "15119\n",
      "Conditional probabilities of characters in English:\n",
      "• for character 'a' = 0.0602\n",
      "• for character 'b' = 0.0111\n",
      "• for character 'c' = 0.0215\n",
      "• for character 'd' = 0.0220\n",
      "• for character 'e' = 0.1054\n",
      "• for character 'f' = 0.0189\n",
      "• for character 'g' = 0.0175\n",
      "• for character 'h' = 0.0472\n",
      "• for character 'i' = 0.0554\n",
      "• for character 'j' = 0.0014\n",
      "• for character 'k' = 0.0037\n",
      "• for character 'l' = 0.0290\n",
      "• for character 'm' = 0.0205\n",
      "• for character 'n' = 0.0579\n",
      "• for character 'o' = 0.0645\n",
      "• for character 'p' = 0.0168\n",
      "• for character 'q' = 0.0006\n",
      "• for character 'r' = 0.0538\n",
      "• for character 's' = 0.0662\n",
      "• for character 't' = 0.0801\n",
      "• for character 'u' = 0.0267\n",
      "• for character 'v' = 0.0093\n",
      "• for character 'w' = 0.0155\n",
      "• for character 'x' = 0.0012\n",
      "• for character 'y' = 0.0138\n",
      "• for character 'z' = 0.0006\n",
      "• for character ' ' = 0.1792\n"
     ]
    }
   ],
   "source": [
    "# Count occurances of each character in english files\n",
    "\n",
    "character_occurances_dict = {character: 0 for character in vocab}\n",
    "\n",
    "for i in range(0, occurances_of_class_e):\n",
    "    \n",
    "    path = \"C:/Users/lefki/Documents/MyDesktop/Master/Semester 1/ECE 760/HW4/languageID/e\" + str(i) + \".txt\"\n",
    "    \n",
    "    with open(path, 'r', encoding='utf-8') as text:\n",
    "        for line in text:\n",
    "            for character in line:\n",
    "                if character in character_occurances_dict:\n",
    "                    character_occurances_dict[character] += 1\n",
    "                    \n",
    "print(f\"Occurancies of each character in English files: {character_occurances_dict}\\n\")\n",
    "\n",
    "# Calculate conditional probabilities for every character in English files\n",
    "\n",
    "total_num_characters = sum(character_occurances_dict.values())\n",
    "print(total_num_characters)\n",
    "cond_probs_e = []\n",
    "log_cond_probs_e = []\n",
    "\n",
    "print(\"Conditional probabilities of characters in English:\")\n",
    "for character in character_occurances_dict:\n",
    "    cond_prob_e = (character_occurances_dict[character] + a) / (total_num_characters + (a * len(vocab)))\n",
    "    cond_probs_e.append(cond_prob_e)\n",
    "    log_cond_probs_e.append(np.log(cond_prob_e))\n",
    "    print(f\"\\u2022 for character '{character}' = {cond_prob_e:.4f}\")"
   ]
  },
  {
   "cell_type": "markdown",
   "id": "83b56cfe",
   "metadata": {},
   "source": [
    "### 3.3"
   ]
  },
  {
   "cell_type": "code",
   "execution_count": 7,
   "id": "0d674932",
   "metadata": {},
   "outputs": [
    {
     "name": "stdout",
     "output_type": "stream",
     "text": [
      "Occurancies of each character in Japanese files: {'a': 1885, 'b': 155, 'c': 78, 'd': 246, 'e': 861, 'f': 55, 'g': 200, 'h': 454, 'i': 1388, 'j': 33, 'k': 821, 'l': 20, 'm': 569, 'n': 811, 'o': 1304, 'p': 12, 'q': 1, 'r': 612, 's': 603, 't': 815, 'u': 1010, 'v': 3, 'w': 282, 'x': 0, 'y': 202, 'z': 110, ' ': 1766}\n",
      "\n",
      "Conditional probabilities of characters in Japanese:\n",
      "• for character 'a' = 0.1318\n",
      "• for character 'b' = 0.0109\n",
      "• for character 'c' = 0.0055\n",
      "• for character 'd' = 0.0172\n",
      "• for character 'e' = 0.0602\n",
      "• for character 'f' = 0.0039\n",
      "• for character 'g' = 0.0140\n",
      "• for character 'h' = 0.0318\n",
      "• for character 'i' = 0.0970\n",
      "• for character 'j' = 0.0023\n",
      "• for character 'k' = 0.0574\n",
      "• for character 'l' = 0.0014\n",
      "• for character 'm' = 0.0398\n",
      "• for character 'n' = 0.0567\n",
      "• for character 'o' = 0.0912\n",
      "• for character 'p' = 0.0009\n",
      "• for character 'q' = 0.0001\n",
      "• for character 'r' = 0.0428\n",
      "• for character 's' = 0.0422\n",
      "• for character 't' = 0.0570\n",
      "• for character 'u' = 0.0706\n",
      "• for character 'v' = 0.0002\n",
      "• for character 'w' = 0.0197\n",
      "• for character 'x' = 0.0000\n",
      "• for character 'y' = 0.0142\n",
      "• for character 'z' = 0.0077\n",
      "• for character ' ' = 0.1234\n"
     ]
    }
   ],
   "source": [
    "# Count occurances of each character in english files\n",
    "\n",
    "character_occurances_dict = {character: 0 for character in vocab}\n",
    "\n",
    "for i in range(0, occurances_of_class_j):\n",
    "    \n",
    "    path = \"C:/Users/lefki/Documents/MyDesktop/Master/Semester 1/ECE 760/HW4/languageID/j\" + str(i) + \".txt\"\n",
    "    \n",
    "    with open(path, 'r', encoding='utf-8') as text:\n",
    "        for line in text:\n",
    "            for character in line:\n",
    "                if character in character_occurances_dict:\n",
    "                    character_occurances_dict[character] += 1\n",
    "                    \n",
    "print(f\"Occurancies of each character in Japanese files: {character_occurances_dict}\\n\")\n",
    "\n",
    "# Calculate conditional probabilities for every character in english files\n",
    "\n",
    "total_num_characters = sum(character_occurances_dict.values())\n",
    "cond_probs_j = []\n",
    "log_cond_probs_j = []\n",
    "\n",
    "print(\"Conditional probabilities of characters in Japanese:\")\n",
    "for character in character_occurances_dict:\n",
    "    cond_prob_j = (character_occurances_dict[character] + a) / (total_num_characters + (a * len(vocab)))\n",
    "    cond_probs_j.append(cond_prob_j)\n",
    "    log_cond_probs_j.append(np.log(cond_prob_j))\n",
    "    print(f\"\\u2022 for character '{character}' = {cond_prob_j:.4f}\")"
   ]
  },
  {
   "cell_type": "code",
   "execution_count": 8,
   "id": "d4ca5eb2",
   "metadata": {},
   "outputs": [
    {
     "name": "stdout",
     "output_type": "stream",
     "text": [
      "Occurancies of each character in Spanish files: {'a': 1695, 'b': 133, 'c': 608, 'd': 644, 'e': 1845, 'f': 139, 'g': 116, 'h': 73, 'i': 808, 'j': 107, 'k': 4, 'l': 858, 'm': 418, 'n': 878, 'o': 1175, 'p': 393, 'q': 124, 'r': 961, 's': 1066, 't': 577, 'u': 546, 'v': 95, 'w': 1, 'x': 40, 'y': 127, 'z': 43, ' ': 2728}\n",
      "\n",
      "Conditional probabilities of characters in Spanish:\n",
      "• for character 'a' = 0.1046\n",
      "• for character 'b' = 0.0082\n",
      "• for character 'c' = 0.0375\n",
      "• for character 'd' = 0.0397\n",
      "• for character 'e' = 0.1138\n",
      "• for character 'f' = 0.0086\n",
      "• for character 'g' = 0.0072\n",
      "• for character 'h' = 0.0045\n",
      "• for character 'i' = 0.0499\n",
      "• for character 'j' = 0.0066\n",
      "• for character 'k' = 0.0003\n",
      "• for character 'l' = 0.0529\n",
      "• for character 'm' = 0.0258\n",
      "• for character 'n' = 0.0542\n",
      "• for character 'o' = 0.0725\n",
      "• for character 'p' = 0.0243\n",
      "• for character 'q' = 0.0077\n",
      "• for character 'r' = 0.0593\n",
      "• for character 's' = 0.0658\n",
      "• for character 't' = 0.0356\n",
      "• for character 'u' = 0.0337\n",
      "• for character 'v' = 0.0059\n",
      "• for character 'w' = 0.0001\n",
      "• for character 'x' = 0.0025\n",
      "• for character 'y' = 0.0079\n",
      "• for character 'z' = 0.0027\n",
      "• for character ' ' = 0.1683\n"
     ]
    }
   ],
   "source": [
    "# Count occurances of each character in Spanish files\n",
    "\n",
    "character_occurances_dict = {character: 0 for character in vocab}\n",
    "\n",
    "for i in range(0, occurances_of_class_s):\n",
    "    \n",
    "    path = \"C:/Users/lefki/Documents/MyDesktop/Master/Semester 1/ECE 760/HW4/languageID/s\" + str(i) + \".txt\"\n",
    "    \n",
    "    with open(path, 'r', encoding='utf-8') as text:\n",
    "        for line in text:\n",
    "            for character in line:\n",
    "                if character in character_occurances_dict:\n",
    "                    character_occurances_dict[character] += 1\n",
    "                    \n",
    "print(f\"Occurancies of each character in Spanish files: {character_occurances_dict}\\n\")\n",
    "\n",
    "# Calculate conditional probabilities for every character in Spanish files\n",
    "\n",
    "total_num_characters = sum(character_occurances_dict.values())\n",
    "cond_probs_s = []\n",
    "log_cond_probs_s = []\n",
    "\n",
    "print(\"Conditional probabilities of characters in Spanish:\")\n",
    "for character in character_occurances_dict:\n",
    "    cond_prob_s = (character_occurances_dict[character] + a) / (total_num_characters + (a * len(vocab)))\n",
    "    cond_probs_s.append(cond_prob_s)\n",
    "    log_cond_probs_s.append(np.log(cond_prob_s))\n",
    "    print(f\"\\u2022 for character '{character}' = {cond_prob_s:.4f}\")"
   ]
  },
  {
   "cell_type": "markdown",
   "id": "ddb0c0ac",
   "metadata": {},
   "source": [
    "### 3.4"
   ]
  },
  {
   "cell_type": "code",
   "execution_count": 99,
   "id": "77b52937",
   "metadata": {},
   "outputs": [
    {
     "name": "stdout",
     "output_type": "stream",
     "text": [
      "Bag-of-words for file e10.txt:\n",
      "{'a': 164, 'b': 32, 'c': 53, 'd': 57, 'e': 311, 'f': 55, 'g': 51, 'h': 140, 'i': 140, 'j': 3, 'k': 6, 'l': 85, 'm': 64, 'n': 139, 'o': 182, 'p': 53, 'q': 3, 'r': 141, 's': 186, 't': 225, 'u': 65, 'v': 31, 'w': 47, 'x': 4, 'y': 38, 'z': 2, ' ': 498}\n"
     ]
    }
   ],
   "source": [
    "character_occurances_dict = {character: 0 for character in vocab}\n",
    "    \n",
    "path = \"C:/Users/lefki/Documents/MyDesktop/Master/Semester 1/ECE 760/HW4/languageID/e10.txt\"\n",
    "\n",
    "with open(path, 'r', encoding='utf-8') as text:\n",
    "    for line in text:\n",
    "        for character in line:\n",
    "            if character in character_occurances_dict:\n",
    "                character_occurances_dict[character] += 1\n",
    "                \n",
    "print(f\"Bag-of-words for file e10.txt:\\n{character_occurances_dict}\")"
   ]
  },
  {
   "cell_type": "markdown",
   "id": "959169ef",
   "metadata": {},
   "source": [
    "### 3.5"
   ]
  },
  {
   "cell_type": "markdown",
   "id": "73ebcf99",
   "metadata": {},
   "source": [
    "#### $\\hat p(x \\mid y=e)$"
   ]
  },
  {
   "cell_type": "code",
   "execution_count": 100,
   "id": "727166a4",
   "metadata": {},
   "outputs": [
    {
     "name": "stdout",
     "output_type": "stream",
     "text": [
      "0.0\n"
     ]
    }
   ],
   "source": [
    "product = 1\n",
    "\n",
    "for i, occurances in enumerate(character_occurances_dict.values()):\n",
    "    product *= (cond_probs_e[i])**occurances\n",
    "print(product)"
   ]
  },
  {
   "cell_type": "markdown",
   "id": "208fe729",
   "metadata": {},
   "source": [
    "#### $\\hat p(x \\mid y=j)$"
   ]
  },
  {
   "cell_type": "code",
   "execution_count": 103,
   "id": "ea257ad4",
   "metadata": {},
   "outputs": [
    {
     "name": "stdout",
     "output_type": "stream",
     "text": [
      "0.0\n"
     ]
    }
   ],
   "source": [
    "product = 1\n",
    "\n",
    "for i, occurances in enumerate(character_occurances_dict.values()):\n",
    "    product *= (cond_probs_j[i])**occurances\n",
    "print(product)"
   ]
  },
  {
   "cell_type": "markdown",
   "id": "11ef0e92",
   "metadata": {},
   "source": [
    "#### $\\hat p(x \\mid y=s)$"
   ]
  },
  {
   "cell_type": "code",
   "execution_count": 107,
   "id": "2d6855c9",
   "metadata": {},
   "outputs": [
    {
     "name": "stdout",
     "output_type": "stream",
     "text": [
      "0.0\n"
     ]
    }
   ],
   "source": [
    "product = 1\n",
    "\n",
    "for i, occurances in enumerate(character_occurances_dict.values()):\n",
    "    product *= (cond_probs_j[i])**occurances\n",
    "print(product)"
   ]
  },
  {
   "cell_type": "markdown",
   "id": "b610b4bf",
   "metadata": {},
   "source": [
    "#### $log(\\hat p(x \\mid y=e))$"
   ]
  },
  {
   "cell_type": "code",
   "execution_count": 102,
   "id": "7774e0a2",
   "metadata": {},
   "outputs": [
    {
     "name": "stdout",
     "output_type": "stream",
     "text": [
      "-7841.865447060635\n"
     ]
    }
   ],
   "source": [
    "summation = 0\n",
    "\n",
    "for i, occurances in enumerate(character_occurances_dict.values()):\n",
    "    summation += occurances * (log_cond_probs_e[i])\n",
    "print((summation))"
   ]
  },
  {
   "cell_type": "markdown",
   "id": "3cb0b90c",
   "metadata": {},
   "source": [
    "#### $log(\\hat p(x \\mid y=j))$"
   ]
  },
  {
   "cell_type": "code",
   "execution_count": 104,
   "id": "234a9031",
   "metadata": {},
   "outputs": [
    {
     "name": "stdout",
     "output_type": "stream",
     "text": [
      "-8771.433079075032\n"
     ]
    }
   ],
   "source": [
    "summation = 0\n",
    "\n",
    "for i, occurances in enumerate(character_occurances_dict.values()):\n",
    "    summation += occurances * (log_cond_probs_j[i])\n",
    "print((summation))"
   ]
  },
  {
   "cell_type": "markdown",
   "id": "5e88b74b",
   "metadata": {},
   "source": [
    "#### $log(\\hat p(x \\mid y=s))$"
   ]
  },
  {
   "cell_type": "code",
   "execution_count": 105,
   "id": "504dc172",
   "metadata": {},
   "outputs": [
    {
     "name": "stdout",
     "output_type": "stream",
     "text": [
      "-8467.282044010557\n"
     ]
    }
   ],
   "source": [
    "summation = 0\n",
    "\n",
    "for i, occurances in enumerate(character_occurances_dict.values()):\n",
    "    summation += occurances * (log_cond_probs_s[i])\n",
    "print((summation))"
   ]
  },
  {
   "cell_type": "markdown",
   "id": "fac32f6e",
   "metadata": {},
   "source": [
    "### 3.7"
   ]
  },
  {
   "cell_type": "code",
   "execution_count": 21,
   "id": "f33df5a7",
   "metadata": {},
   "outputs": [],
   "source": [
    "def nb_predict(path, log_cond_probs_e, log_cond_probs_j, log_cond_probs_s):\n",
    "    \n",
    "    character_occurances_dict = {character: 0 for character in vocab}\n",
    "\n",
    "    with open(path, 'r', encoding='utf-8') as text:\n",
    "        for line in text:\n",
    "            for character in line:\n",
    "                if character in character_occurances_dict:\n",
    "                    character_occurances_dict[character] += 1\n",
    "    \n",
    "    summations = [0, 0, 0]\n",
    "    for i, occurances in enumerate(character_occurances_dict.values()):\n",
    "        summations[0] += occurances * (log_cond_probs_e[i])\n",
    "    \n",
    "    for i, occurances in enumerate(character_occurances_dict.values()):\n",
    "        summations[1] += occurances * (log_cond_probs_j[i])\n",
    "    \n",
    "    for i, occurances in enumerate(character_occurances_dict.values()):\n",
    "        summations[2] += occurances * (log_cond_probs_s[i])\n",
    "    \n",
    "    index_of_max = max(range(len(summations)), key=lambda i: summations[i])\n",
    "    \n",
    "    if index_of_max == 0:\n",
    "        return 'e'\n",
    "    elif index_of_max == 1:\n",
    "        return 'j'\n",
    "    \n",
    "    return 's'"
   ]
  },
  {
   "cell_type": "code",
   "execution_count": 30,
   "id": "0b4f83e3",
   "metadata": {},
   "outputs": [
    {
     "name": "stdout",
     "output_type": "stream",
     "text": [
      "Confusion matrix:\n",
      " [[10.  0.  0.]\n",
      " [ 0. 10.  0.]\n",
      " [ 0.  0. 10.]]\n"
     ]
    }
   ],
   "source": [
    "classes = ['e', 'j', 's']\n",
    "conf_mat = np.zeros((3,3))\n",
    "\n",
    "for row,label in enumerate(classes):\n",
    "    for i in range(10, 20):\n",
    "        path = \"C:/Users/lefki/Documents/MyDesktop/Master/Semester 1/ECE 760/HW4/languageID/\" + label + str(i) + \".txt\"\n",
    "        y_pred = nb_predict(path, log_cond_probs_e, log_cond_probs_j, log_cond_probs_s)\n",
    "        \n",
    "        if y_pred == label:\n",
    "            conf_mat[row][row] += 1\n",
    "        elif y_pred == 'e':\n",
    "            conf_mat[row][0] += 1\n",
    "        elif y_pred == 'j':\n",
    "            conf_mat[row][1] += 1\n",
    "        elif y_pred == 's':\n",
    "            conf_mat[row][2] += 1\n",
    "            \n",
    "print(f\"Confusion matrix:\\n {conf_mat}\")"
   ]
  },
  {
   "cell_type": "markdown",
   "id": "02202ac8",
   "metadata": {},
   "source": [
    "## Question 4: Simple Feed-Forward Network"
   ]
  },
  {
   "cell_type": "markdown",
   "id": "4a8d3f72",
   "metadata": {},
   "source": [
    "### 4.2"
   ]
  },
  {
   "cell_type": "code",
   "execution_count": 5,
   "id": "1dc08c5e",
   "metadata": {},
   "outputs": [],
   "source": [
    "import gzip\n",
    "import numpy as np\n",
    "\n",
    "# Define functions to read the binary files\n",
    "def read_images(filename):\n",
    "    with gzip.open(filename, 'rb') as file:\n",
    "        data = np.frombuffer(file.read(), np.uint8, offset=16)\n",
    "    return data.reshape(-1, 28, 28)\n",
    "\n",
    "def read_labels(filename):\n",
    "    with gzip.open(filename, 'rb') as file:\n",
    "        data = np.frombuffer(file.read(), np.uint8, offset=8)\n",
    "    return data\n",
    "\n",
    "train_images_file = 'C:/Users/lefki/Documents/MyDesktop/Master/Semester 1/ECE 760/HW4/MNIST/train-images-idx3-ubyte.gz'\n",
    "train_labels_file = 'C:/Users/lefki/Documents/MyDesktop/Master/Semester 1/ECE 760/HW4/MNIST/train-labels-idx1-ubyte.gz'\n",
    "test_images_file = 'C:/Users/lefki/Documents/MyDesktop/Master/Semester 1/ECE 760/HW4/MNIST/t10k-images-idx3-ubyte.gz'\n",
    "test_labels_file = 'C:/Users/lefki/Documents/MyDesktop/Master/Semester 1/ECE 760/HW4/MNIST/t10k-labels-idx1-ubyte.gz'\n",
    "\n",
    "train_images = read_images(train_images_file)\n",
    "train_labels = read_labels(train_labels_file)\n",
    "test_images = read_images(test_images_file)\n",
    "test_labels = read_labels(test_labels_file)\n"
   ]
  },
  {
   "cell_type": "code",
   "execution_count": 6,
   "id": "821c2a35",
   "metadata": {},
   "outputs": [],
   "source": [
    "def sigmoid(z):\n",
    "    \n",
    "    return 1 / (1 + np.exp(-z))\n",
    "\n",
    "def softmax(z):\n",
    "    \n",
    "    e_z = np.exp(z - np.max(z, axis=0, keepdims=True))\n",
    "    \n",
    "    return e_z / (e_z.sum(axis=0, keepdims=True) + 1e-10)\n",
    "\n",
    "def cross_entropy(y_pred, y_true):\n",
    "    \n",
    "    loss = np.mean(np.sum(-1 * y_true * np.log(y_pred + 1e-10), axis=0))\n",
    "        \n",
    "    return loss"
   ]
  },
  {
   "cell_type": "code",
   "execution_count": 35,
   "id": "d68378bd",
   "metadata": {
    "scrolled": false
   },
   "outputs": [
    {
     "data": {
      "application/vnd.jupyter.widget-view+json": {
       "model_id": "3eedd4e6cf584e87853f0a9847e04b5a",
       "version_major": 2,
       "version_minor": 0
      },
      "text/plain": [
       "  0%|          | 0/50 [00:00<?, ?it/s]"
      ]
     },
     "metadata": {},
     "output_type": "display_data"
    },
    {
     "data": {
      "application/vnd.jupyter.widget-view+json": {
       "model_id": "4d0a7f37291e4eea965e7651924c2a7a",
       "version_major": 2,
       "version_minor": 0
      },
      "text/plain": [
       "  0%|          | 0/235 [00:00<?, ?it/s]"
      ]
     },
     "metadata": {},
     "output_type": "display_data"
    },
    {
     "name": "stdout",
     "output_type": "stream",
     "text": [
      "Epoch [1/50], , Train Loss: 2.2439, Test Loss: 1.0386, Test Accuracy: 0.79%\n"
     ]
    },
    {
     "data": {
      "application/vnd.jupyter.widget-view+json": {
       "model_id": "1367106fe3f94083b574a434b5d72ef1",
       "version_major": 2,
       "version_minor": 0
      },
      "text/plain": [
       "  0%|          | 0/235 [00:00<?, ?it/s]"
      ]
     },
     "metadata": {},
     "output_type": "display_data"
    },
    {
     "name": "stdout",
     "output_type": "stream",
     "text": [
      "Epoch [2/50], , Train Loss: 0.9146, Test Loss: 0.7641, Test Accuracy: 0.84%\n"
     ]
    },
    {
     "data": {
      "application/vnd.jupyter.widget-view+json": {
       "model_id": "97a52704156a4a92a0be595b5a03cdea",
       "version_major": 2,
       "version_minor": 0
      },
      "text/plain": [
       "  0%|          | 0/235 [00:00<?, ?it/s]"
      ]
     },
     "metadata": {},
     "output_type": "display_data"
    },
    {
     "name": "stdout",
     "output_type": "stream",
     "text": [
      "Epoch [3/50], , Train Loss: 0.7076, Test Loss: 0.6468, Test Accuracy: 0.86%\n"
     ]
    },
    {
     "data": {
      "application/vnd.jupyter.widget-view+json": {
       "model_id": "07906971004842ecb54d3ad9f03b0850",
       "version_major": 2,
       "version_minor": 0
      },
      "text/plain": [
       "  0%|          | 0/235 [00:00<?, ?it/s]"
      ]
     },
     "metadata": {},
     "output_type": "display_data"
    },
    {
     "name": "stdout",
     "output_type": "stream",
     "text": [
      "Epoch [4/50], , Train Loss: 0.5967, Test Loss: 0.5752, Test Accuracy: 0.87%\n"
     ]
    },
    {
     "data": {
      "application/vnd.jupyter.widget-view+json": {
       "model_id": "b144c3c24adf43b091529dcb8b7f6e08",
       "version_major": 2,
       "version_minor": 0
      },
      "text/plain": [
       "  0%|          | 0/235 [00:00<?, ?it/s]"
      ]
     },
     "metadata": {},
     "output_type": "display_data"
    },
    {
     "name": "stdout",
     "output_type": "stream",
     "text": [
      "Epoch [5/50], , Train Loss: 0.5237, Test Loss: 0.5250, Test Accuracy: 0.88%\n"
     ]
    },
    {
     "data": {
      "application/vnd.jupyter.widget-view+json": {
       "model_id": "fb80c4179c2542839587e57e0e34a767",
       "version_major": 2,
       "version_minor": 0
      },
      "text/plain": [
       "  0%|          | 0/235 [00:00<?, ?it/s]"
      ]
     },
     "metadata": {},
     "output_type": "display_data"
    },
    {
     "name": "stdout",
     "output_type": "stream",
     "text": [
      "Epoch [6/50], , Train Loss: 0.4704, Test Loss: 0.4869, Test Accuracy: 0.89%\n"
     ]
    },
    {
     "data": {
      "application/vnd.jupyter.widget-view+json": {
       "model_id": "81237010c0ee4c14922eab9b7c7928a8",
       "version_major": 2,
       "version_minor": 0
      },
      "text/plain": [
       "  0%|          | 0/235 [00:00<?, ?it/s]"
      ]
     },
     "metadata": {},
     "output_type": "display_data"
    },
    {
     "name": "stdout",
     "output_type": "stream",
     "text": [
      "Epoch [7/50], , Train Loss: 0.4290, Test Loss: 0.4567, Test Accuracy: 0.90%\n"
     ]
    },
    {
     "data": {
      "application/vnd.jupyter.widget-view+json": {
       "model_id": "f1a3c2d05c8a47ad8daa738a8290690d",
       "version_major": 2,
       "version_minor": 0
      },
      "text/plain": [
       "  0%|          | 0/235 [00:00<?, ?it/s]"
      ]
     },
     "metadata": {},
     "output_type": "display_data"
    },
    {
     "name": "stdout",
     "output_type": "stream",
     "text": [
      "Epoch [8/50], , Train Loss: 0.3955, Test Loss: 0.4319, Test Accuracy: 0.90%\n"
     ]
    },
    {
     "data": {
      "application/vnd.jupyter.widget-view+json": {
       "model_id": "867630005f1c4f7cbae205f08002293a",
       "version_major": 2,
       "version_minor": 0
      },
      "text/plain": [
       "  0%|          | 0/235 [00:00<?, ?it/s]"
      ]
     },
     "metadata": {},
     "output_type": "display_data"
    },
    {
     "name": "stdout",
     "output_type": "stream",
     "text": [
      "Epoch [9/50], , Train Loss: 0.3678, Test Loss: 0.4111, Test Accuracy: 0.90%\n"
     ]
    },
    {
     "data": {
      "application/vnd.jupyter.widget-view+json": {
       "model_id": "59c02bbb28a94d85a256c678e14d41f4",
       "version_major": 2,
       "version_minor": 0
      },
      "text/plain": [
       "  0%|          | 0/235 [00:00<?, ?it/s]"
      ]
     },
     "metadata": {},
     "output_type": "display_data"
    },
    {
     "name": "stdout",
     "output_type": "stream",
     "text": [
      "Epoch [10/50], , Train Loss: 0.3442, Test Loss: 0.3936, Test Accuracy: 0.91%\n"
     ]
    },
    {
     "data": {
      "application/vnd.jupyter.widget-view+json": {
       "model_id": "e509c1ea6a1b4b658ad522f3ef10e37b",
       "version_major": 2,
       "version_minor": 0
      },
      "text/plain": [
       "  0%|          | 0/235 [00:00<?, ?it/s]"
      ]
     },
     "metadata": {},
     "output_type": "display_data"
    },
    {
     "name": "stdout",
     "output_type": "stream",
     "text": [
      "Epoch [11/50], , Train Loss: 0.3239, Test Loss: 0.3785, Test Accuracy: 0.91%\n"
     ]
    },
    {
     "data": {
      "application/vnd.jupyter.widget-view+json": {
       "model_id": "8e90c12d3bea44f494e3bf4aaf982077",
       "version_major": 2,
       "version_minor": 0
      },
      "text/plain": [
       "  0%|          | 0/235 [00:00<?, ?it/s]"
      ]
     },
     "metadata": {},
     "output_type": "display_data"
    },
    {
     "name": "stdout",
     "output_type": "stream",
     "text": [
      "Epoch [12/50], , Train Loss: 0.3061, Test Loss: 0.3654, Test Accuracy: 0.91%\n"
     ]
    },
    {
     "data": {
      "application/vnd.jupyter.widget-view+json": {
       "model_id": "9be5935f1c9c4d5fb868b70a29361d4f",
       "version_major": 2,
       "version_minor": 0
      },
      "text/plain": [
       "  0%|          | 0/235 [00:00<?, ?it/s]"
      ]
     },
     "metadata": {},
     "output_type": "display_data"
    },
    {
     "name": "stdout",
     "output_type": "stream",
     "text": [
      "Epoch [13/50], , Train Loss: 0.2905, Test Loss: 0.3539, Test Accuracy: 0.91%\n"
     ]
    },
    {
     "data": {
      "application/vnd.jupyter.widget-view+json": {
       "model_id": "a744b12101cc4d9e99cd1ffb7247be3b",
       "version_major": 2,
       "version_minor": 0
      },
      "text/plain": [
       "  0%|          | 0/235 [00:00<?, ?it/s]"
      ]
     },
     "metadata": {},
     "output_type": "display_data"
    },
    {
     "name": "stdout",
     "output_type": "stream",
     "text": [
      "Epoch [14/50], , Train Loss: 0.2765, Test Loss: 0.3437, Test Accuracy: 0.92%\n"
     ]
    },
    {
     "data": {
      "application/vnd.jupyter.widget-view+json": {
       "model_id": "9d8cdf06d2014fb29e70638d013a3758",
       "version_major": 2,
       "version_minor": 0
      },
      "text/plain": [
       "  0%|          | 0/235 [00:00<?, ?it/s]"
      ]
     },
     "metadata": {},
     "output_type": "display_data"
    },
    {
     "name": "stdout",
     "output_type": "stream",
     "text": [
      "Epoch [15/50], , Train Loss: 0.2639, Test Loss: 0.3345, Test Accuracy: 0.92%\n"
     ]
    },
    {
     "data": {
      "application/vnd.jupyter.widget-view+json": {
       "model_id": "1d00fa00b2d3496d971dd16cfa541593",
       "version_major": 2,
       "version_minor": 0
      },
      "text/plain": [
       "  0%|          | 0/235 [00:00<?, ?it/s]"
      ]
     },
     "metadata": {},
     "output_type": "display_data"
    },
    {
     "name": "stdout",
     "output_type": "stream",
     "text": [
      "Epoch [16/50], , Train Loss: 0.2525, Test Loss: 0.3263, Test Accuracy: 0.92%\n"
     ]
    },
    {
     "data": {
      "application/vnd.jupyter.widget-view+json": {
       "model_id": "42049de44f2748c8859567cb86bb12f7",
       "version_major": 2,
       "version_minor": 0
      },
      "text/plain": [
       "  0%|          | 0/235 [00:00<?, ?it/s]"
      ]
     },
     "metadata": {},
     "output_type": "display_data"
    },
    {
     "name": "stdout",
     "output_type": "stream",
     "text": [
      "Epoch [17/50], , Train Loss: 0.2421, Test Loss: 0.3188, Test Accuracy: 0.92%\n"
     ]
    },
    {
     "data": {
      "application/vnd.jupyter.widget-view+json": {
       "model_id": "71ea64322cea42cb89c455796afd41d6",
       "version_major": 2,
       "version_minor": 0
      },
      "text/plain": [
       "  0%|          | 0/235 [00:00<?, ?it/s]"
      ]
     },
     "metadata": {},
     "output_type": "display_data"
    },
    {
     "name": "stdout",
     "output_type": "stream",
     "text": [
      "Epoch [18/50], , Train Loss: 0.2326, Test Loss: 0.3120, Test Accuracy: 0.92%\n"
     ]
    },
    {
     "data": {
      "application/vnd.jupyter.widget-view+json": {
       "model_id": "bcbd8d77099943b7bc4ce952f5f3b578",
       "version_major": 2,
       "version_minor": 0
      },
      "text/plain": [
       "  0%|          | 0/235 [00:00<?, ?it/s]"
      ]
     },
     "metadata": {},
     "output_type": "display_data"
    },
    {
     "name": "stdout",
     "output_type": "stream",
     "text": [
      "Epoch [19/50], , Train Loss: 0.2239, Test Loss: 0.3058, Test Accuracy: 0.92%\n"
     ]
    },
    {
     "data": {
      "application/vnd.jupyter.widget-view+json": {
       "model_id": "03bc9f2978e14425ba4e41bb699afc43",
       "version_major": 2,
       "version_minor": 0
      },
      "text/plain": [
       "  0%|          | 0/235 [00:00<?, ?it/s]"
      ]
     },
     "metadata": {},
     "output_type": "display_data"
    },
    {
     "name": "stdout",
     "output_type": "stream",
     "text": [
      "Epoch [20/50], , Train Loss: 0.2158, Test Loss: 0.3000, Test Accuracy: 0.92%\n"
     ]
    },
    {
     "data": {
      "application/vnd.jupyter.widget-view+json": {
       "model_id": "2a5c7d7363f94085ae30a647f73ef700",
       "version_major": 2,
       "version_minor": 0
      },
      "text/plain": [
       "  0%|          | 0/235 [00:00<?, ?it/s]"
      ]
     },
     "metadata": {},
     "output_type": "display_data"
    },
    {
     "name": "stdout",
     "output_type": "stream",
     "text": [
      "Epoch [21/50], , Train Loss: 0.2083, Test Loss: 0.2947, Test Accuracy: 0.93%\n"
     ]
    },
    {
     "data": {
      "application/vnd.jupyter.widget-view+json": {
       "model_id": "c7e13728f37041e581ee201292ff464f",
       "version_major": 2,
       "version_minor": 0
      },
      "text/plain": [
       "  0%|          | 0/235 [00:00<?, ?it/s]"
      ]
     },
     "metadata": {},
     "output_type": "display_data"
    },
    {
     "name": "stdout",
     "output_type": "stream",
     "text": [
      "Epoch [22/50], , Train Loss: 0.2014, Test Loss: 0.2899, Test Accuracy: 0.93%\n"
     ]
    },
    {
     "data": {
      "application/vnd.jupyter.widget-view+json": {
       "model_id": "81df623f78774bd881a8e6bd41a3b2cd",
       "version_major": 2,
       "version_minor": 0
      },
      "text/plain": [
       "  0%|          | 0/235 [00:00<?, ?it/s]"
      ]
     },
     "metadata": {},
     "output_type": "display_data"
    },
    {
     "name": "stdout",
     "output_type": "stream",
     "text": [
      "Epoch [23/50], , Train Loss: 0.1949, Test Loss: 0.2854, Test Accuracy: 0.93%\n"
     ]
    },
    {
     "data": {
      "application/vnd.jupyter.widget-view+json": {
       "model_id": "923f4c81fa964787b2c9c415b92bf1f5",
       "version_major": 2,
       "version_minor": 0
      },
      "text/plain": [
       "  0%|          | 0/235 [00:00<?, ?it/s]"
      ]
     },
     "metadata": {},
     "output_type": "display_data"
    },
    {
     "name": "stdout",
     "output_type": "stream",
     "text": [
      "Epoch [24/50], , Train Loss: 0.1889, Test Loss: 0.2812, Test Accuracy: 0.93%\n"
     ]
    },
    {
     "data": {
      "application/vnd.jupyter.widget-view+json": {
       "model_id": "46816e6bc4974aa58aeb5c16819f7ce6",
       "version_major": 2,
       "version_minor": 0
      },
      "text/plain": [
       "  0%|          | 0/235 [00:00<?, ?it/s]"
      ]
     },
     "metadata": {},
     "output_type": "display_data"
    },
    {
     "name": "stdout",
     "output_type": "stream",
     "text": [
      "Epoch [25/50], , Train Loss: 0.1832, Test Loss: 0.2773, Test Accuracy: 0.93%\n"
     ]
    },
    {
     "data": {
      "application/vnd.jupyter.widget-view+json": {
       "model_id": "3114f5e3cbc14342972f8556fa2eca89",
       "version_major": 2,
       "version_minor": 0
      },
      "text/plain": [
       "  0%|          | 0/235 [00:00<?, ?it/s]"
      ]
     },
     "metadata": {},
     "output_type": "display_data"
    },
    {
     "name": "stdout",
     "output_type": "stream",
     "text": [
      "Epoch [26/50], , Train Loss: 0.1778, Test Loss: 0.2737, Test Accuracy: 0.93%\n"
     ]
    },
    {
     "data": {
      "application/vnd.jupyter.widget-view+json": {
       "model_id": "f886157e16b3415a8a0f5a721ff31628",
       "version_major": 2,
       "version_minor": 0
      },
      "text/plain": [
       "  0%|          | 0/235 [00:00<?, ?it/s]"
      ]
     },
     "metadata": {},
     "output_type": "display_data"
    },
    {
     "name": "stdout",
     "output_type": "stream",
     "text": [
      "Epoch [27/50], , Train Loss: 0.1728, Test Loss: 0.2703, Test Accuracy: 0.93%\n"
     ]
    },
    {
     "data": {
      "application/vnd.jupyter.widget-view+json": {
       "model_id": "9d1ed3c11d9c4cfa82ac5cae81ead753",
       "version_major": 2,
       "version_minor": 0
      },
      "text/plain": [
       "  0%|          | 0/235 [00:00<?, ?it/s]"
      ]
     },
     "metadata": {},
     "output_type": "display_data"
    },
    {
     "name": "stdout",
     "output_type": "stream",
     "text": [
      "Epoch [28/50], , Train Loss: 0.1680, Test Loss: 0.2671, Test Accuracy: 0.93%\n"
     ]
    },
    {
     "data": {
      "application/vnd.jupyter.widget-view+json": {
       "model_id": "0b3a20239bcb452ea3835e798aff9110",
       "version_major": 2,
       "version_minor": 0
      },
      "text/plain": [
       "  0%|          | 0/235 [00:00<?, ?it/s]"
      ]
     },
     "metadata": {},
     "output_type": "display_data"
    },
    {
     "name": "stdout",
     "output_type": "stream",
     "text": [
      "Epoch [29/50], , Train Loss: 0.1635, Test Loss: 0.2641, Test Accuracy: 0.93%\n"
     ]
    },
    {
     "data": {
      "application/vnd.jupyter.widget-view+json": {
       "model_id": "55c8316bed4846b58023b5649d8b7e9b",
       "version_major": 2,
       "version_minor": 0
      },
      "text/plain": [
       "  0%|          | 0/235 [00:00<?, ?it/s]"
      ]
     },
     "metadata": {},
     "output_type": "display_data"
    },
    {
     "name": "stdout",
     "output_type": "stream",
     "text": [
      "Epoch [30/50], , Train Loss: 0.1593, Test Loss: 0.2613, Test Accuracy: 0.93%\n"
     ]
    },
    {
     "data": {
      "application/vnd.jupyter.widget-view+json": {
       "model_id": "cd1f8cec60534c47a558500db580fd59",
       "version_major": 2,
       "version_minor": 0
      },
      "text/plain": [
       "  0%|          | 0/235 [00:00<?, ?it/s]"
      ]
     },
     "metadata": {},
     "output_type": "display_data"
    },
    {
     "name": "stdout",
     "output_type": "stream",
     "text": [
      "Epoch [31/50], , Train Loss: 0.1552, Test Loss: 0.2587, Test Accuracy: 0.93%\n"
     ]
    },
    {
     "data": {
      "application/vnd.jupyter.widget-view+json": {
       "model_id": "b4abe7fad8b14ea380d1bc752959a6ef",
       "version_major": 2,
       "version_minor": 0
      },
      "text/plain": [
       "  0%|          | 0/235 [00:00<?, ?it/s]"
      ]
     },
     "metadata": {},
     "output_type": "display_data"
    },
    {
     "name": "stdout",
     "output_type": "stream",
     "text": [
      "Epoch [32/50], , Train Loss: 0.1514, Test Loss: 0.2563, Test Accuracy: 0.93%\n"
     ]
    },
    {
     "data": {
      "application/vnd.jupyter.widget-view+json": {
       "model_id": "1e6c028410174b48ba7f388759b26582",
       "version_major": 2,
       "version_minor": 0
      },
      "text/plain": [
       "  0%|          | 0/235 [00:00<?, ?it/s]"
      ]
     },
     "metadata": {},
     "output_type": "display_data"
    },
    {
     "name": "stdout",
     "output_type": "stream",
     "text": [
      "Epoch [33/50], , Train Loss: 0.1477, Test Loss: 0.2539, Test Accuracy: 0.93%\n"
     ]
    },
    {
     "data": {
      "application/vnd.jupyter.widget-view+json": {
       "model_id": "d56aba7659594e65a57ec4db5a6c8706",
       "version_major": 2,
       "version_minor": 0
      },
      "text/plain": [
       "  0%|          | 0/235 [00:00<?, ?it/s]"
      ]
     },
     "metadata": {},
     "output_type": "display_data"
    },
    {
     "name": "stdout",
     "output_type": "stream",
     "text": [
      "Epoch [34/50], , Train Loss: 0.1442, Test Loss: 0.2517, Test Accuracy: 0.93%\n"
     ]
    },
    {
     "data": {
      "application/vnd.jupyter.widget-view+json": {
       "model_id": "11c6df73b8f34cdcab2d60820fd2ee65",
       "version_major": 2,
       "version_minor": 0
      },
      "text/plain": [
       "  0%|          | 0/235 [00:00<?, ?it/s]"
      ]
     },
     "metadata": {},
     "output_type": "display_data"
    },
    {
     "name": "stdout",
     "output_type": "stream",
     "text": [
      "Epoch [35/50], , Train Loss: 0.1409, Test Loss: 0.2497, Test Accuracy: 0.94%\n"
     ]
    },
    {
     "data": {
      "application/vnd.jupyter.widget-view+json": {
       "model_id": "422318fa909046699dafb145057b0f3a",
       "version_major": 2,
       "version_minor": 0
      },
      "text/plain": [
       "  0%|          | 0/235 [00:00<?, ?it/s]"
      ]
     },
     "metadata": {},
     "output_type": "display_data"
    },
    {
     "name": "stdout",
     "output_type": "stream",
     "text": [
      "Epoch [36/50], , Train Loss: 0.1377, Test Loss: 0.2477, Test Accuracy: 0.94%\n"
     ]
    },
    {
     "data": {
      "application/vnd.jupyter.widget-view+json": {
       "model_id": "d72e5e6a89ea41df8b30c5d2446d80c9",
       "version_major": 2,
       "version_minor": 0
      },
      "text/plain": [
       "  0%|          | 0/235 [00:00<?, ?it/s]"
      ]
     },
     "metadata": {},
     "output_type": "display_data"
    },
    {
     "name": "stdout",
     "output_type": "stream",
     "text": [
      "Epoch [37/50], , Train Loss: 0.1346, Test Loss: 0.2458, Test Accuracy: 0.94%\n"
     ]
    },
    {
     "data": {
      "application/vnd.jupyter.widget-view+json": {
       "model_id": "78db9c43e8f14c77aa55fd6ca940996a",
       "version_major": 2,
       "version_minor": 0
      },
      "text/plain": [
       "  0%|          | 0/235 [00:00<?, ?it/s]"
      ]
     },
     "metadata": {},
     "output_type": "display_data"
    },
    {
     "name": "stdout",
     "output_type": "stream",
     "text": [
      "Epoch [38/50], , Train Loss: 0.1317, Test Loss: 0.2440, Test Accuracy: 0.94%\n"
     ]
    },
    {
     "data": {
      "application/vnd.jupyter.widget-view+json": {
       "model_id": "b36761a3338143a09e3372fba60c5afe",
       "version_major": 2,
       "version_minor": 0
      },
      "text/plain": [
       "  0%|          | 0/235 [00:00<?, ?it/s]"
      ]
     },
     "metadata": {},
     "output_type": "display_data"
    },
    {
     "name": "stdout",
     "output_type": "stream",
     "text": [
      "Epoch [39/50], , Train Loss: 0.1289, Test Loss: 0.2424, Test Accuracy: 0.94%\n"
     ]
    },
    {
     "data": {
      "application/vnd.jupyter.widget-view+json": {
       "model_id": "460c71afad454293bb1303de56468181",
       "version_major": 2,
       "version_minor": 0
      },
      "text/plain": [
       "  0%|          | 0/235 [00:00<?, ?it/s]"
      ]
     },
     "metadata": {},
     "output_type": "display_data"
    },
    {
     "name": "stdout",
     "output_type": "stream",
     "text": [
      "Epoch [40/50], , Train Loss: 0.1261, Test Loss: 0.2408, Test Accuracy: 0.94%\n"
     ]
    },
    {
     "data": {
      "application/vnd.jupyter.widget-view+json": {
       "model_id": "7de5918f04b64dab946d506d097f5ff9",
       "version_major": 2,
       "version_minor": 0
      },
      "text/plain": [
       "  0%|          | 0/235 [00:00<?, ?it/s]"
      ]
     },
     "metadata": {},
     "output_type": "display_data"
    },
    {
     "name": "stdout",
     "output_type": "stream",
     "text": [
      "Epoch [41/50], , Train Loss: 0.1235, Test Loss: 0.2392, Test Accuracy: 0.94%\n"
     ]
    },
    {
     "data": {
      "application/vnd.jupyter.widget-view+json": {
       "model_id": "c40772de3f8c43f9867b4fe80799fd98",
       "version_major": 2,
       "version_minor": 0
      },
      "text/plain": [
       "  0%|          | 0/235 [00:00<?, ?it/s]"
      ]
     },
     "metadata": {},
     "output_type": "display_data"
    },
    {
     "name": "stdout",
     "output_type": "stream",
     "text": [
      "Epoch [42/50], , Train Loss: 0.1210, Test Loss: 0.2378, Test Accuracy: 0.94%\n"
     ]
    },
    {
     "data": {
      "application/vnd.jupyter.widget-view+json": {
       "model_id": "2c0bd297d0da41299d6657356d10659a",
       "version_major": 2,
       "version_minor": 0
      },
      "text/plain": [
       "  0%|          | 0/235 [00:00<?, ?it/s]"
      ]
     },
     "metadata": {},
     "output_type": "display_data"
    },
    {
     "name": "stdout",
     "output_type": "stream",
     "text": [
      "Epoch [43/50], , Train Loss: 0.1186, Test Loss: 0.2364, Test Accuracy: 0.94%\n"
     ]
    },
    {
     "data": {
      "application/vnd.jupyter.widget-view+json": {
       "model_id": "49cf4eb0047b4cb08c5802d341ea2090",
       "version_major": 2,
       "version_minor": 0
      },
      "text/plain": [
       "  0%|          | 0/235 [00:00<?, ?it/s]"
      ]
     },
     "metadata": {},
     "output_type": "display_data"
    },
    {
     "name": "stdout",
     "output_type": "stream",
     "text": [
      "Epoch [44/50], , Train Loss: 0.1163, Test Loss: 0.2351, Test Accuracy: 0.94%\n"
     ]
    },
    {
     "data": {
      "application/vnd.jupyter.widget-view+json": {
       "model_id": "ed284405977347deba87457434b40d77",
       "version_major": 2,
       "version_minor": 0
      },
      "text/plain": [
       "  0%|          | 0/235 [00:00<?, ?it/s]"
      ]
     },
     "metadata": {},
     "output_type": "display_data"
    },
    {
     "name": "stdout",
     "output_type": "stream",
     "text": [
      "Epoch [45/50], , Train Loss: 0.1140, Test Loss: 0.2338, Test Accuracy: 0.94%\n"
     ]
    },
    {
     "data": {
      "application/vnd.jupyter.widget-view+json": {
       "model_id": "d6d823bd5d7041c78ea5ab86c32af159",
       "version_major": 2,
       "version_minor": 0
      },
      "text/plain": [
       "  0%|          | 0/235 [00:00<?, ?it/s]"
      ]
     },
     "metadata": {},
     "output_type": "display_data"
    },
    {
     "name": "stdout",
     "output_type": "stream",
     "text": [
      "Epoch [46/50], , Train Loss: 0.1118, Test Loss: 0.2326, Test Accuracy: 0.94%\n"
     ]
    },
    {
     "data": {
      "application/vnd.jupyter.widget-view+json": {
       "model_id": "1f0ee965c7c743288ad66541fa4ac608",
       "version_major": 2,
       "version_minor": 0
      },
      "text/plain": [
       "  0%|          | 0/235 [00:00<?, ?it/s]"
      ]
     },
     "metadata": {},
     "output_type": "display_data"
    },
    {
     "name": "stdout",
     "output_type": "stream",
     "text": [
      "Epoch [47/50], , Train Loss: 0.1097, Test Loss: 0.2314, Test Accuracy: 0.94%\n"
     ]
    },
    {
     "data": {
      "application/vnd.jupyter.widget-view+json": {
       "model_id": "13992161d4414d00b1981e1cf84999ca",
       "version_major": 2,
       "version_minor": 0
      },
      "text/plain": [
       "  0%|          | 0/235 [00:00<?, ?it/s]"
      ]
     },
     "metadata": {},
     "output_type": "display_data"
    },
    {
     "name": "stdout",
     "output_type": "stream",
     "text": [
      "Epoch [48/50], , Train Loss: 0.1077, Test Loss: 0.2303, Test Accuracy: 0.94%\n"
     ]
    },
    {
     "data": {
      "application/vnd.jupyter.widget-view+json": {
       "model_id": "cb7c756c6b8a48c580e47dec38971ed4",
       "version_major": 2,
       "version_minor": 0
      },
      "text/plain": [
       "  0%|          | 0/235 [00:00<?, ?it/s]"
      ]
     },
     "metadata": {},
     "output_type": "display_data"
    },
    {
     "name": "stdout",
     "output_type": "stream",
     "text": [
      "Epoch [49/50], , Train Loss: 0.1057, Test Loss: 0.2293, Test Accuracy: 0.94%\n"
     ]
    },
    {
     "data": {
      "application/vnd.jupyter.widget-view+json": {
       "model_id": "68fc0f21dfee4e08b732e2607bd41e75",
       "version_major": 2,
       "version_minor": 0
      },
      "text/plain": [
       "  0%|          | 0/235 [00:00<?, ?it/s]"
      ]
     },
     "metadata": {},
     "output_type": "display_data"
    },
    {
     "name": "stdout",
     "output_type": "stream",
     "text": [
      "Epoch [50/50], , Train Loss: 0.1038, Test Loss: 0.2282, Test Accuracy: 0.94%\n"
     ]
    },
    {
     "data": {
      "image/png": "[encoded data removed]",
      "text/plain": [
       "<Figure size 720x432 with 2 Axes>"
      ]
     },
     "metadata": {
      "needs_background": "light"
     },
     "output_type": "display_data"
    }
   ],
   "source": [
    "d = X_train.shape[1] * X_train.shape[2]  # 28x28 pixel images\n",
    "d_1 = 300\n",
    "k = 10  \n",
    "\n",
    "np.random.seed(0)\n",
    "W_1 = np.random.normal(0, 1, (d_1, d))\n",
    "W_2 = np.random.normal(0, 1, (k, d_1))\n",
    "\n",
    "lr = 1e-3\n",
    "epochs = 50\n",
    "batch_size = 32\n",
    "\n",
    "X_train = train_images / 255.0\n",
    "X_test = test_images / 255.0\n",
    "X_test = X_test.reshape(-1, d)  # Flatten each image\n",
    "X_test = np.transpose(X_test)\n",
    "    \n",
    "y_train = np.eye(k)[train_labels]\n",
    "y_test = np.eye(k)[test_labels]\n",
    "y_test = np.transpose(y_test)\n",
    "\n",
    "train_losses = []\n",
    "test_losses = []\n",
    "test_accuracies = []\n",
    "\n",
    "for epoch in tqdm(range(epochs)):\n",
    "    \n",
    "    batch_bar = tqdm(range(0, X_train.shape[0], batch_size))\n",
    "    loss_per_epoch = []\n",
    "    \n",
    "    for i in batch_bar:\n",
    "        \n",
    "        X_batch = X_train[i:i + batch_size].reshape(-1, d)  # Flatten each image\n",
    "        X_batch = np.transpose(X_batch)\n",
    "        y_batch = y_train[i:i + batch_size]\n",
    "        y_batch = np.transpose(y_batch)\n",
    "        \n",
    "        # Forward pass\n",
    "        z_1 = np.dot( W_1, X_batch)\n",
    "        h_1 = sigmoid(z_1)\n",
    "        z_2 = np.dot(W_2, h_1) \n",
    "        y_hat = softmax(z_2)\n",
    "\n",
    "        # Compute loss \n",
    "        loss = cross_entropy(y_hat, y_batch)\n",
    "        loss_per_epoch.append(loss)\n",
    "        \n",
    "        # Backward pass\n",
    "        temp = y_hat - y_batch\n",
    "        dl_W2 = np.dot(temp, h_1.T)\n",
    "        \n",
    "        temp2 = h_1 * (1 - h_1)\n",
    "        temp3 = np.dot(np.transpose(W_2), temp) * temp2\n",
    "        dl_W1 = np.dot(temp3, np.transpose(X_batch))\n",
    "        \n",
    "        #Update\n",
    "        W_1 = W_1 - lr * dl_W1\n",
    "        W_2 = W_2 - lr * dl_W2\n",
    "        \n",
    "        \n",
    "        batch_bar.set_description('Loss: %.2f' %(loss))\n",
    "    \n",
    "    # Test\n",
    "    z_1 = np.dot( W_1, X_test)\n",
    "    h_1 = sigmoid(z_1)\n",
    "    z_2 = np.dot(W_2, h_1) \n",
    "    y_hat = softmax(z_2)\n",
    "    \n",
    "    # Compute test loss and accuracy \n",
    "    test_loss = cross_entropy(y_hat, y_test)\n",
    "    predicted_labels = np.argmax(y_hat, axis=0)\n",
    "    test_accuracy = accuracy_score(np.argmax(y_test, axis=0), predicted_labels)\n",
    "    test_accuracies.append(test_accuracy)\n",
    "    \n",
    "    train_losses.append(sum(loss_per_epoch) / len(loss_per_epoch))\n",
    "    test_losses.append(test_loss)\n",
    "    \n",
    "    print(f'Epoch [{epoch + 1}/{epochs}], , Train Loss: {train_losses[-1]:.4f}, Test Loss: {test_loss:.4f}, Test Accuracy: {test_accuracy:.2f}%')\n",
    "\n",
    "# Plot the learning curves\n",
    "plt.figure(figsize=(10, 6))\n",
    "plt.subplot(1, 2, 1)\n",
    "plt.plot(range(1, epochs + 1), train_losses, label='Train Loss', color='blue')\n",
    "plt.plot(range(1, epochs + 1), test_losses, label='Test Loss', color='red')\n",
    "plt.xlabel('Epochs')\n",
    "plt.ylabel('Loss')\n",
    "plt.title('Train and Test Loss Curves')\n",
    "plt.grid(True)\n",
    "plt.legend()\n",
    "\n",
    "plt.subplot(1, 2, 2)\n",
    "plt.plot(range(1, epochs + 1), test_accuracies, label='Test Accuracy', color='green')\n",
    "plt.xlabel('Epochs')\n",
    "plt.ylabel('Accuracy (%)')\n",
    "plt.title('Test Accuracy Curve')\n",
    "plt.grid(True)\n",
    "plt.legend()\n",
    "\n",
    "plt.tight_layout()\n",
    "plt.show()"
   ]
  },
  {
   "cell_type": "markdown",
   "id": "d9274271",
   "metadata": {},
   "source": [
    "### 4.3"
   ]
  },
  {
   "cell_type": "code",
   "execution_count": 22,
   "id": "82f8547d",
   "metadata": {},
   "outputs": [],
   "source": [
    "import torch\n",
    "import torch.nn as nn\n",
    "import torch.optim as optim\n",
    "import torchvision\n",
    "import torchvision.transforms as transforms\n",
    "from torch.utils.data import DataLoader"
   ]
  },
  {
   "cell_type": "code",
   "execution_count": 31,
   "id": "196a3672",
   "metadata": {},
   "outputs": [
    {
     "data": {
      "application/vnd.jupyter.widget-view+json": {
       "model_id": "373af1f2b70f4467a135b4196f21fe10",
       "version_major": 2,
       "version_minor": 0
      },
      "text/plain": [
       "  0%|          | 0/30 [00:00<?, ?it/s]"
      ]
     },
     "metadata": {},
     "output_type": "display_data"
    },
    {
     "name": "stdout",
     "output_type": "stream",
     "text": [
      "Epoch [1/30], Train Loss: 1.2497, Test Loss: 0.6230, Test Accuracy: 85.58%\n",
      "Epoch [2/30], Train Loss: 0.5191, Test Loss: 0.4244, Test Accuracy: 88.96%\n",
      "Epoch [3/30], Train Loss: 0.4079, Test Loss: 0.3627, Test Accuracy: 90.10%\n",
      "Epoch [4/30], Train Loss: 0.3640, Test Loss: 0.3326, Test Accuracy: 90.47%\n",
      "Epoch [5/30], Train Loss: 0.3393, Test Loss: 0.3151, Test Accuracy: 91.07%\n",
      "Epoch [6/30], Train Loss: 0.3223, Test Loss: 0.3018, Test Accuracy: 91.39%\n",
      "Epoch [7/30], Train Loss: 0.3094, Test Loss: 0.2903, Test Accuracy: 91.62%\n",
      "Epoch [8/30], Train Loss: 0.2991, Test Loss: 0.2839, Test Accuracy: 91.96%\n",
      "Epoch [9/30], Train Loss: 0.2898, Test Loss: 0.2766, Test Accuracy: 92.07%\n",
      "Epoch [10/30], Train Loss: 0.2817, Test Loss: 0.2691, Test Accuracy: 92.17%\n",
      "Epoch [11/30], Train Loss: 0.2741, Test Loss: 0.2630, Test Accuracy: 92.55%\n",
      "Epoch [12/30], Train Loss: 0.2670, Test Loss: 0.2561, Test Accuracy: 92.56%\n",
      "Epoch [13/30], Train Loss: 0.2601, Test Loss: 0.2515, Test Accuracy: 92.80%\n",
      "Epoch [14/30], Train Loss: 0.2539, Test Loss: 0.2452, Test Accuracy: 92.92%\n",
      "Epoch [15/30], Train Loss: 0.2472, Test Loss: 0.2388, Test Accuracy: 93.18%\n",
      "Epoch [16/30], Train Loss: 0.2412, Test Loss: 0.2364, Test Accuracy: 93.40%\n",
      "Epoch [17/30], Train Loss: 0.2349, Test Loss: 0.2313, Test Accuracy: 93.40%\n",
      "Epoch [18/30], Train Loss: 0.2293, Test Loss: 0.2270, Test Accuracy: 93.38%\n",
      "Epoch [19/30], Train Loss: 0.2237, Test Loss: 0.2178, Test Accuracy: 93.80%\n",
      "Epoch [20/30], Train Loss: 0.2180, Test Loss: 0.2141, Test Accuracy: 93.81%\n",
      "Epoch [21/30], Train Loss: 0.2127, Test Loss: 0.2088, Test Accuracy: 93.94%\n",
      "Epoch [22/30], Train Loss: 0.2077, Test Loss: 0.2054, Test Accuracy: 94.01%\n",
      "Epoch [23/30], Train Loss: 0.2026, Test Loss: 0.2017, Test Accuracy: 94.12%\n",
      "Epoch [24/30], Train Loss: 0.1980, Test Loss: 0.1974, Test Accuracy: 94.29%\n",
      "Epoch [25/30], Train Loss: 0.1935, Test Loss: 0.1929, Test Accuracy: 94.36%\n",
      "Epoch [26/30], Train Loss: 0.1893, Test Loss: 0.1881, Test Accuracy: 94.52%\n",
      "Epoch [27/30], Train Loss: 0.1850, Test Loss: 0.1842, Test Accuracy: 94.66%\n",
      "Epoch [28/30], Train Loss: 0.1810, Test Loss: 0.1799, Test Accuracy: 94.78%\n",
      "Epoch [29/30], Train Loss: 0.1770, Test Loss: 0.1760, Test Accuracy: 94.93%\n",
      "Epoch [30/30], Train Loss: 0.1733, Test Loss: 0.1747, Test Accuracy: 94.90%\n"
     ]
    },
    {
     "data": {
      "image/png": "[encoded data removed]",
      "text/plain": [
       "<Figure size 720x432 with 2 Axes>"
      ]
     },
     "metadata": {
      "needs_background": "light"
     },
     "output_type": "display_data"
    }
   ],
   "source": [
    "# Define a simple feedforward neural network\n",
    "class FeedforwardNN(nn.Module):\n",
    "    def __init__(self, input_size, hidden_size, output_size):\n",
    "        super(FeedforwardNN, self).__init__()\n",
    "        self.fc1 = nn.Linear(input_size, hidden_size, bias=False)\n",
    "        self.sigmoid = nn.Sigmoid()\n",
    "        self.fc2 = nn.Linear(hidden_size, output_size, bias=False)\n",
    "\n",
    "    def forward(self, x):\n",
    "        x = self.fc1(x)\n",
    "        x = self.sigmoid(x)\n",
    "        x = self.fc2(x)\n",
    "        return x\n",
    "\n",
    "# MNIST dataset\n",
    "transform = transforms.Compose([transforms.ToTensor(), transforms.Normalize((0.5,), (0.5,))])\n",
    "train_dataset = torchvision.datasets.MNIST(root='./data', train=True, transform=transform, download=True)\n",
    "test_dataset = torchvision.datasets.MNIST(root='./data', train=False, transform=transform)\n",
    "\n",
    "# Data loaders\n",
    "batch_size = 32\n",
    "train_loader = DataLoader(dataset=train_dataset, batch_size=batch_size, shuffle=True)\n",
    "test_loader = DataLoader(dataset=test_dataset, batch_size=batch_size, shuffle=False)\n",
    "\n",
    "# Initialize the model\n",
    "input_size = 28 * 28  # MNIST image size\n",
    "hidden_size = 300\n",
    "output_size = 10\n",
    "model = FeedforwardNN(input_size, hidden_size, output_size)\n",
    "\n",
    "# Loss and optimizer\n",
    "criterion = nn.CrossEntropyLoss()\n",
    "optimizer = optim.SGD(model.parameters(), lr=0.01)\n",
    "\n",
    "# Training loop\n",
    "num_epochs = 30\n",
    "learning_curve = []\n",
    "test_learning_curve = []\n",
    "test_accuracy_curve = []\n",
    "\n",
    "for epoch in tqdm(range(num_epochs)):\n",
    "    train_total_loss = 0.0\n",
    "    test_total_loss = 0.0\n",
    "    for images, labels in train_loader:\n",
    "        # Flatten the input data\n",
    "        images = images.view(-1, input_size)\n",
    "        \n",
    "        # Forward pass\n",
    "        outputs = model(images)\n",
    "        loss = criterion(outputs, labels)\n",
    "        \n",
    "        # Backpropagation and optimization\n",
    "        optimizer.zero_grad()\n",
    "        loss.backward()\n",
    "        optimizer.step()\n",
    "        \n",
    "        train_total_loss += loss.item()\n",
    "    \n",
    "    avg_loss = train_total_loss / len(train_loader)\n",
    "    learning_curve.append(avg_loss)\n",
    "#     print(f'Epoch [{epoch + 1}/{num_epochs}], Train Loss: {avg_loss:.4f}')\n",
    "\n",
    "# Testing\n",
    "    model.eval()\n",
    "    correct = 0\n",
    "    total = 0\n",
    "\n",
    "    with torch.no_grad():\n",
    "        for images, labels in test_loader:\n",
    "            images = images.view(-1, input_size)\n",
    "            outputs = model(images)\n",
    "            loss = criterion(outputs, labels)\n",
    "            test_total_loss += loss.item()\n",
    "\n",
    "            _, predicted = torch.max(outputs.data, 1)\n",
    "            total += labels.size(0)\n",
    "            correct += (predicted == labels).sum().item()\n",
    "\n",
    "    avg_test_loss = test_total_loss / len(test_loader)\n",
    "    test_learning_curve.append(avg_test_loss)\n",
    "    test_accuracy = 100 * correct / total\n",
    "    test_accuracy_curve.append(test_accuracy)  # Store test accuracy\n",
    "    print(f'Epoch [{epoch + 1}/{num_epochs}], Train Loss: {avg_loss:.4f}, Test Loss: {avg_test_loss:.4f}, Test Accuracy: {test_accuracy:.2f}%')\n",
    "\n",
    "# Plot the learning curves\n",
    "plt.figure(figsize=(10, 6))\n",
    "plt.subplot(1, 2, 1)\n",
    "plt.plot(range(1, num_epochs + 1), learning_curve, label='Train Loss', color='blue')\n",
    "plt.plot(range(1, num_epochs + 1), test_learning_curve, label='Test Loss', color='red')\n",
    "plt.xlabel('Epochs')\n",
    "plt.ylabel('Loss')\n",
    "plt.title('Train and Test Loss Curves')\n",
    "plt.grid(True)\n",
    "plt.legend()\n",
    "\n",
    "plt.subplot(1, 2, 2)\n",
    "plt.plot(range(1, num_epochs + 1), test_accuracy_curve, label='Test Accuracy', color='green')\n",
    "plt.xlabel('Epochs')\n",
    "plt.ylabel('Accuracy (%)')\n",
    "plt.title('Test Accuracy Curve')\n",
    "plt.grid(True)\n",
    "plt.legend()\n",
    "\n",
    "plt.tight_layout()\n",
    "plt.show()"
   ]
  },
  {
   "cell_type": "markdown",
   "id": "e25071e2",
   "metadata": {},
   "source": [
    "### 4.4"
   ]
  },
  {
   "cell_type": "markdown",
   "id": "c11ebf18",
   "metadata": {},
   "source": [
    "#### Initialize weights to zero"
   ]
  },
  {
   "cell_type": "code",
   "execution_count": 32,
   "id": "4abe0b15",
   "metadata": {
    "scrolled": false
   },
   "outputs": [
    {
     "data": {
      "application/vnd.jupyter.widget-view+json": {
       "model_id": "cf74cbd514c24853b77b24ffdedbc655",
       "version_major": 2,
       "version_minor": 0
      },
      "text/plain": [
       "  0%|          | 0/30 [00:00<?, ?it/s]"
      ]
     },
     "metadata": {},
     "output_type": "display_data"
    },
    {
     "name": "stdout",
     "output_type": "stream",
     "text": [
      "Epoch [1/30], Train Loss: 2.3019, Test Loss: 2.3017, Test Accuracy: 11.35%\n",
      "Epoch [2/30], Train Loss: 2.3018, Test Loss: 2.3015, Test Accuracy: 11.35%\n",
      "Epoch [3/30], Train Loss: 2.3018, Test Loss: 2.3012, Test Accuracy: 11.35%\n",
      "Epoch [4/30], Train Loss: 2.3020, Test Loss: 2.3014, Test Accuracy: 11.35%\n",
      "Epoch [5/30], Train Loss: 2.3017, Test Loss: 2.3023, Test Accuracy: 11.35%\n",
      "Epoch [6/30], Train Loss: 2.3019, Test Loss: 2.3021, Test Accuracy: 11.35%\n",
      "Epoch [7/30], Train Loss: 2.3020, Test Loss: 2.3017, Test Accuracy: 11.35%\n",
      "Epoch [8/30], Train Loss: 2.3019, Test Loss: 2.3021, Test Accuracy: 11.35%\n",
      "Epoch [9/30], Train Loss: 2.3018, Test Loss: 2.3022, Test Accuracy: 11.35%\n",
      "Epoch [10/30], Train Loss: 2.3019, Test Loss: 2.3011, Test Accuracy: 11.35%\n",
      "Epoch [11/30], Train Loss: 2.3019, Test Loss: 2.3012, Test Accuracy: 11.35%\n",
      "Epoch [12/30], Train Loss: 2.3018, Test Loss: 2.3014, Test Accuracy: 11.35%\n",
      "Epoch [13/30], Train Loss: 2.3018, Test Loss: 2.3017, Test Accuracy: 11.35%\n",
      "Epoch [14/30], Train Loss: 2.3017, Test Loss: 2.3015, Test Accuracy: 11.35%\n",
      "Epoch [15/30], Train Loss: 2.3017, Test Loss: 2.3015, Test Accuracy: 11.35%\n",
      "Epoch [16/30], Train Loss: 2.3017, Test Loss: 2.3016, Test Accuracy: 11.35%\n",
      "Epoch [17/30], Train Loss: 2.3019, Test Loss: 2.3020, Test Accuracy: 11.35%\n",
      "Epoch [18/30], Train Loss: 2.3018, Test Loss: 2.3017, Test Accuracy: 11.35%\n",
      "Epoch [19/30], Train Loss: 2.3018, Test Loss: 2.3012, Test Accuracy: 11.35%\n",
      "Epoch [20/30], Train Loss: 2.3017, Test Loss: 2.3018, Test Accuracy: 11.35%\n",
      "Epoch [21/30], Train Loss: 2.3017, Test Loss: 2.3015, Test Accuracy: 11.35%\n",
      "Epoch [22/30], Train Loss: 2.3017, Test Loss: 2.3016, Test Accuracy: 11.35%\n",
      "Epoch [23/30], Train Loss: 2.3018, Test Loss: 2.3021, Test Accuracy: 11.35%\n",
      "Epoch [24/30], Train Loss: 2.3015, Test Loss: 2.3017, Test Accuracy: 11.35%\n",
      "Epoch [25/30], Train Loss: 2.3016, Test Loss: 2.3026, Test Accuracy: 10.28%\n",
      "Epoch [26/30], Train Loss: 2.3017, Test Loss: 2.3012, Test Accuracy: 11.35%\n",
      "Epoch [27/30], Train Loss: 2.3016, Test Loss: 2.3010, Test Accuracy: 11.35%\n",
      "Epoch [28/30], Train Loss: 2.3015, Test Loss: 2.3023, Test Accuracy: 11.35%\n",
      "Epoch [29/30], Train Loss: 2.3017, Test Loss: 2.3013, Test Accuracy: 11.35%\n",
      "Epoch [30/30], Train Loss: 2.3015, Test Loss: 2.3013, Test Accuracy: 11.35%\n"
     ]
    },
    {
     "data": {
      "image/png": "[encoded data removed]",
      "text/plain": [
       "<Figure size 720x432 with 2 Axes>"
      ]
     },
     "metadata": {
      "needs_background": "light"
     },
     "output_type": "display_data"
    }
   ],
   "source": [
    "# Define a simple feedforward neural network\n",
    "class FeedforwardNN(nn.Module):\n",
    "    def __init__(self, input_size, hidden_size, output_size):\n",
    "        super(FeedforwardNN, self).__init__()\n",
    "        self.fc1 = nn.Linear(input_size, hidden_size, bias=False)\n",
    "        self.fc1.weight.data.fill_(0.0)\n",
    "        self.sigmoid = nn.Sigmoid()\n",
    "        self.fc2 = nn.Linear(hidden_size, output_size, bias=False)\n",
    "        self.fc2.weight.data.fill_(0.0)\n",
    "\n",
    "    def forward(self, x):\n",
    "        x = self.fc1(x)\n",
    "        x = self.sigmoid(x)\n",
    "        x = self.fc2(x)\n",
    "        return x\n",
    "\n",
    "# MNIST dataset\n",
    "transform = transforms.Compose([transforms.ToTensor()])\n",
    "train_dataset = torchvision.datasets.MNIST(root='./data', train=True, transform=transform, download=True)\n",
    "test_dataset = torchvision.datasets.MNIST(root='./data', train=False, transform=transform)\n",
    "\n",
    "# Data loaders\n",
    "batch_size = 32\n",
    "train_loader = DataLoader(dataset=train_dataset, batch_size=batch_size, shuffle=True)\n",
    "test_loader = DataLoader(dataset=test_dataset, batch_size=batch_size, shuffle=False)\n",
    "\n",
    "# Initialize the model\n",
    "input_size = 28 * 28  # MNIST image size\n",
    "hidden_size = 300\n",
    "output_size = 10\n",
    "model = FeedforwardNN(input_size, hidden_size, output_size)\n",
    "\n",
    "# Loss and optimizer\n",
    "criterion = nn.CrossEntropyLoss()\n",
    "optimizer = optim.SGD(model.parameters(), lr=0.01)\n",
    "\n",
    "# Training and test loss curves\n",
    "num_epochs = 30\n",
    "train_learning_curve = []\n",
    "test_learning_curve = []\n",
    "test_accuracy_curve = []\n",
    "\n",
    "for epoch in tqdm(range(num_epochs)):\n",
    "    train_total_loss = 0.0\n",
    "    test_total_loss = 0.0\n",
    "\n",
    "    # Training\n",
    "    model.train()\n",
    "    for images, labels in train_loader:\n",
    "        # Flatten the input data\n",
    "        images = images.view(-1, input_size)\n",
    "        \n",
    "        # Forward pass\n",
    "        outputs = model(images)\n",
    "        loss = criterion(outputs, labels)\n",
    "        \n",
    "        # Backpropagation and optimization\n",
    "        optimizer.zero_grad()\n",
    "        loss.backward()\n",
    "        optimizer.step()\n",
    "        \n",
    "        train_total_loss += loss.item()\n",
    "\n",
    "    avg_train_loss = train_total_loss / len(train_loader)\n",
    "    train_learning_curve.append(avg_train_loss)\n",
    "#     print(f'Epoch [{epoch + 1}/{num_epochs}], Train Loss: {avg_train_loss:.4f}')\n",
    "\n",
    "    # Testing\n",
    "    model.eval()\n",
    "    correct = 0\n",
    "    total = 0\n",
    "\n",
    "    with torch.no_grad():\n",
    "        for images, labels in test_loader:\n",
    "            images = images.view(-1, input_size)\n",
    "            outputs = model(images)\n",
    "            loss = criterion(outputs, labels)\n",
    "            test_total_loss += loss.item()\n",
    "\n",
    "            _, predicted = torch.max(outputs.data, 1)\n",
    "            total += labels.size(0)\n",
    "            correct += (predicted == labels).sum().item()\n",
    "\n",
    "    avg_test_loss = test_total_loss / len(test_loader)\n",
    "    test_learning_curve.append(avg_test_loss)\n",
    "    test_accuracy = 100 * correct / total\n",
    "    test_accuracy_curve.append(test_accuracy)  # Store test accuracy\n",
    "    print(f'Epoch [{epoch + 1}/{num_epochs}], Train Loss: {avg_train_loss:.4f}, Test Loss: {avg_test_loss:.4f}, Test Accuracy: {test_accuracy:.2f}%')\n",
    "\n",
    "# Plot the learning curves\n",
    "plt.figure(figsize=(10, 6))\n",
    "plt.subplot(1, 2, 1)\n",
    "plt.plot(range(1, num_epochs + 1), train_learning_curve, label='Train Loss', color='blue')\n",
    "plt.plot(range(1, num_epochs + 1), test_learning_curve, label='Test Loss', color='red')\n",
    "plt.xlabel('Epochs')\n",
    "plt.ylabel('Loss')\n",
    "plt.title('Train and Test Loss Curves')\n",
    "plt.grid(True)\n",
    "plt.legend()\n",
    "\n",
    "plt.subplot(1, 2, 2)\n",
    "plt.plot(range(1, num_epochs + 1), test_accuracy_curve, label='Test Accuracy', color='green')\n",
    "plt.xlabel('Epochs')\n",
    "plt.ylabel('Accuracy (%)')\n",
    "plt.title('Test Accuracy Curve')\n",
    "plt.grid(True)\n",
    "plt.legend()\n",
    "\n",
    "plt.tight_layout()\n",
    "plt.show()"
   ]
  },
  {
   "cell_type": "markdown",
   "id": "c5275430",
   "metadata": {},
   "source": [
    "#### Initialize weights randomly between [-1,1]"
   ]
  },
  {
   "cell_type": "code",
   "execution_count": 33,
   "id": "c93866e4",
   "metadata": {
    "scrolled": false
   },
   "outputs": [
    {
     "name": "stdout",
     "output_type": "stream",
     "text": [
      "Epoch [1/30], Train Loss: 1.8002, Test Loss: 0.8383, Test Accuracy: 43.19%\n",
      "Epoch [2/30], Train Loss: 0.7302, Test Loss: 0.6023, Test Accuracy: 56.16%\n",
      "Epoch [3/30], Train Loss: 0.5783, Test Loss: 0.5112, Test Accuracy: 63.35%\n",
      "Epoch [4/30], Train Loss: 0.5027, Test Loss: 0.4605, Test Accuracy: 68.00%\n",
      "Epoch [5/30], Train Loss: 0.4547, Test Loss: 0.4274, Test Accuracy: 71.25%\n",
      "Epoch [6/30], Train Loss: 0.4196, Test Loss: 0.4016, Test Accuracy: 73.69%\n",
      "Epoch [7/30], Train Loss: 0.3928, Test Loss: 0.3804, Test Accuracy: 75.60%\n",
      "Epoch [8/30], Train Loss: 0.3710, Test Loss: 0.3645, Test Accuracy: 77.13%\n",
      "Epoch [9/30], Train Loss: 0.3529, Test Loss: 0.3530, Test Accuracy: 78.40%\n",
      "Epoch [10/30], Train Loss: 0.3373, Test Loss: 0.3401, Test Accuracy: 79.47%\n",
      "Epoch [11/30], Train Loss: 0.3241, Test Loss: 0.3293, Test Accuracy: 80.38%\n",
      "Epoch [12/30], Train Loss: 0.3122, Test Loss: 0.3225, Test Accuracy: 81.16%\n",
      "Epoch [13/30], Train Loss: 0.3016, Test Loss: 0.3126, Test Accuracy: 81.86%\n",
      "Epoch [14/30], Train Loss: 0.2921, Test Loss: 0.3072, Test Accuracy: 82.47%\n",
      "Epoch [15/30], Train Loss: 0.2835, Test Loss: 0.3014, Test Accuracy: 83.01%\n",
      "Epoch [16/30], Train Loss: 0.2755, Test Loss: 0.2939, Test Accuracy: 83.49%\n",
      "Epoch [17/30], Train Loss: 0.2680, Test Loss: 0.2882, Test Accuracy: 83.93%\n",
      "Epoch [18/30], Train Loss: 0.2615, Test Loss: 0.2828, Test Accuracy: 84.34%\n",
      "Epoch [19/30], Train Loss: 0.2552, Test Loss: 0.2791, Test Accuracy: 84.70%\n",
      "Epoch [20/30], Train Loss: 0.2494, Test Loss: 0.2751, Test Accuracy: 85.05%\n",
      "Epoch [21/30], Train Loss: 0.2440, Test Loss: 0.2717, Test Accuracy: 85.36%\n",
      "Epoch [22/30], Train Loss: 0.2389, Test Loss: 0.2662, Test Accuracy: 85.65%\n",
      "Epoch [23/30], Train Loss: 0.2339, Test Loss: 0.2625, Test Accuracy: 85.92%\n",
      "Epoch [24/30], Train Loss: 0.2293, Test Loss: 0.2593, Test Accuracy: 86.17%\n",
      "Epoch [25/30], Train Loss: 0.2250, Test Loss: 0.2551, Test Accuracy: 86.41%\n",
      "Epoch [26/30], Train Loss: 0.2209, Test Loss: 0.2527, Test Accuracy: 86.63%\n",
      "Epoch [27/30], Train Loss: 0.2170, Test Loss: 0.2510, Test Accuracy: 86.84%\n",
      "Epoch [28/30], Train Loss: 0.2133, Test Loss: 0.2471, Test Accuracy: 87.04%\n",
      "Epoch [29/30], Train Loss: 0.2096, Test Loss: 0.2441, Test Accuracy: 87.23%\n",
      "Epoch [30/30], Train Loss: 0.2062, Test Loss: 0.2434, Test Accuracy: 87.40%\n"
     ]
    },
    {
     "data": {
      "image/png": "[encoded data removed]",
      "text/plain": [
       "<Figure size 720x432 with 2 Axes>"
      ]
     },
     "metadata": {
      "needs_background": "light"
     },
     "output_type": "display_data"
    }
   ],
   "source": [
    "import torch\n",
    "import torch.nn as nn\n",
    "import torch.optim as optim\n",
    "import torchvision\n",
    "import torchvision.transforms as transforms\n",
    "from torch.utils.data import DataLoader\n",
    "import matplotlib.pyplot as plt\n",
    "\n",
    "class FeedforwardNN(nn.Module):\n",
    "    def __init__(self, input_size, hidden_size, output_size):\n",
    "        super(FeedforwardNN, self).__init__()\n",
    "        self.fc1 = nn.Linear(input_size, hidden_size, bias=False)\n",
    "        nn.init.uniform_(self.fc1.weight, -1, 1)\n",
    "        self.sigmoid = nn.Sigmoid()\n",
    "        self.fc2 = nn.Linear(hidden_size, output_size, bias=False)\n",
    "        nn.init.uniform_(self.fc2.weight, -1, 1)\n",
    "\n",
    "    def forward(self, x):\n",
    "        x = self.fc1(x)\n",
    "        x = self.sigmoid(x)\n",
    "        x = self.fc2(x)\n",
    "        return x\n",
    "\n",
    "transform = transforms.Compose([transforms.ToTensor()])\n",
    "train_dataset = torchvision.datasets.MNIST(root='./data', train=True, transform=transform, download=True)\n",
    "test_dataset = torchvision.datasets.MNIST(root='./data', train=False, transform=transform)\n",
    "\n",
    "# Data loaders\n",
    "batch_size = 32\n",
    "train_loader = DataLoader(dataset=train_dataset, batch_size=batch_size, shuffle=True)\n",
    "test_loader = DataLoader(dataset=test_dataset, batch_size=batch_size, shuffle=False)\n",
    "\n",
    "# Initialize the model\n",
    "input_size = 28 * 28  # MNIST image size\n",
    "hidden_size = 300\n",
    "output_size = 10\n",
    "model = FeedforwardNN(input_size, hidden_size, output_size)\n",
    "\n",
    "# Loss and optimizer\n",
    "criterion = nn.CrossEntropyLoss()\n",
    "optimizer = optim.SGD(model.parameters(), lr=0.01)\n",
    "\n",
    "# Training and test loss curves\n",
    "num_epochs = 30\n",
    "train_learning_curve = []\n",
    "test_learning_curve = []\n",
    "test_accuracy_curve = []\n",
    "\n",
    "for epoch in range(num_epochs):\n",
    "    train_total_loss = 0.0\n",
    "    test_total_loss = 0.0\n",
    "\n",
    "    # Training\n",
    "    model.train()\n",
    "    for images, labels in train_loader:\n",
    "        # Flatten the input data\n",
    "        images = images.view(-1, input_size)\n",
    "        \n",
    "        # Forward pass\n",
    "        outputs = model(images)\n",
    "        loss = criterion(outputs, labels)\n",
    "        \n",
    "        # Backpropagation and optimization\n",
    "        optimizer.zero_grad()\n",
    "        loss.backward()\n",
    "        optimizer.step()\n",
    "        \n",
    "        train_total_loss += loss.item()\n",
    "\n",
    "    avg_train_loss = train_total_loss / len(train_loader)\n",
    "    train_learning_curve.append(avg_train_loss)\n",
    "\n",
    "# Testing\n",
    "    model.eval()\n",
    "    with torch.no_grad():\n",
    "        for images, labels in test_loader:\n",
    "            images = images.view(-1, input_size)\n",
    "            outputs = model(images)\n",
    "            loss = criterion(outputs, labels)\n",
    "            test_total_loss += loss.item()\n",
    "\n",
    "            _, predicted = torch.max(outputs.data, 1)\n",
    "            total += labels.size(0)\n",
    "            correct += (predicted == labels).sum().item()\n",
    "\n",
    "    avg_test_loss = test_total_loss / len(test_loader)\n",
    "    test_learning_curve.append(avg_test_loss)\n",
    "    test_accuracy = 100 * correct / total\n",
    "    test_accuracy_curve.append(test_accuracy)  # Store test accuracy\n",
    "    print(f'Epoch [{epoch + 1}/{num_epochs}], Train Loss: {avg_train_loss:.4f}, Test Loss: {avg_test_loss:.4f}, Test Accuracy: {test_accuracy:.2f}%')\n",
    "\n",
    "\n",
    "# Plot the learning curves\n",
    "plt.figure(figsize=(10, 6))\n",
    "plt.subplot(1, 2, 1)\n",
    "plt.plot(range(1, num_epochs + 1), train_learning_curve, label='Train Loss', color='blue')\n",
    "plt.plot(range(1, num_epochs + 1), test_learning_curve, label='Test Loss', color='red')\n",
    "plt.xlabel('Epochs')\n",
    "plt.ylabel('Loss')\n",
    "plt.title('Train and Test Loss Curves')\n",
    "plt.grid(True)\n",
    "plt.legend()\n",
    "\n",
    "plt.subplot(1, 2, 2)\n",
    "plt.plot(range(1, num_epochs + 1), test_accuracy_curve, label='Test Accuracy', color='green')\n",
    "plt.xlabel('Epochs')\n",
    "plt.ylabel('Accuracy (%)')\n",
    "plt.title('Test Accuracy Curve')\n",
    "plt.grid(True)\n",
    "plt.legend()\n",
    "\n",
    "plt.tight_layout()\n",
    "plt.show()"
   ]
  },
  {
   "cell_type": "code",
   "execution_count": null,
   "id": "1f94c001",
   "metadata": {},
   "outputs": [],
   "source": []
  }
 ],
 "metadata": {
  "kernelspec": {
   "display_name": "Python 3 (ipykernel)",
   "language": "python",
   "name": "python3"
  },
  "language_info": {
   "codemirror_mode": {
    "name": "ipython",
    "version": 3
   },
   "file_extension": ".py",
   "mimetype": "text/x-python",
   "name": "python",
   "nbconvert_exporter": "python",
   "pygments_lexer": "ipython3",
   "version": "3.9.12"
  }
 },
 "nbformat": 4,
 "nbformat_minor": 5
}
